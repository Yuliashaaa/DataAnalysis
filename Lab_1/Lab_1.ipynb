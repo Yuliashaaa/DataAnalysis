{
 "cells": [
  {
   "cell_type": "markdown",
   "source": [
    "# Lab 1: Базові алгоритми класифікації з використанням бібліотеки Scikit-learn\n",
    "### Шевченко Юлія, ФІ-31мн"
   ],
   "metadata": {
    "collapsed": false
   },
   "id": "e15344af1553dd01"
  },
  {
   "cell_type": "markdown",
   "source": [
    "### Lab Task:\n",
    "\n",
    "1. Завантажити дані, вивести назви колонок і розмір датасета\n",
    "2. Опрацювати пропуски (по можливості заповнити їх або видалити)\n",
    "3. Візуалізувати дані: побудувати графік (heatmap), що відображає кореляції ознак між собою і з цільовою змінною (розміткою); побудувати гітсограми розподілу ознак і boxplot-и ознак відносно цільової змінної (якщо ознак занадто багато обмежитися декількома)\n",
    "4. Нормалізувати дані\n",
    "5. Провести навчання наступних класифікаторів:\n",
    "    - KNN\n",
    "    - дерево ухвалення рішень\n",
    "    - SVM\n",
    "    - Random Forest\n",
    "    - AdaBoost\n",
    "6. Підібрати оптимальні параметри:\n",
    "    - для KNN\n",
    "    - для SVM за допомогою GridSearch підібрати оптимальні $C$ і $\\gamma$\n",
    "7. Серед обраних оптимальних моделей кожного класу вибрати найкращу\n",
    "8. Відобразити sklearn.metrics.classification_report і sklearn.metrics.confusion_matrix"
   ],
   "metadata": {
    "collapsed": false
   },
   "id": "e2fb8f8c5f992c98"
  },
  {
   "cell_type": "code",
   "execution_count": null,
   "outputs": [],
   "source": [],
   "metadata": {
    "collapsed": false,
    "ExecuteTime": {
     "end_time": "2023-10-21T14:34:02.954976400Z",
     "start_time": "2023-10-21T14:34:02.943977100Z"
    }
   },
   "id": "7bd940aed09df7dd"
  }
 ],
 "metadata": {
  "kernelspec": {
   "display_name": "Python 3",
   "language": "python",
   "name": "python3"
  },
  "language_info": {
   "codemirror_mode": {
    "name": "ipython",
    "version": 2
   },
   "file_extension": ".py",
   "mimetype": "text/x-python",
   "name": "python",
   "nbconvert_exporter": "python",
   "pygments_lexer": "ipython2",
   "version": "2.7.6"
  }
 },
 "nbformat": 4,
 "nbformat_minor": 5
}
