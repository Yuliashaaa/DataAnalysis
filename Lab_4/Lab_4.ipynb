{
 "cells": [
  {
   "cell_type": "markdown",
   "source": [
    "# Lab 4: Advanced Neural Nets\n",
    "### Шевченко Юлія, ФІ-31мн"
   ],
   "metadata": {
    "collapsed": false
   },
   "id": "40fa658d2cd0050c"
  },
  {
   "cell_type": "markdown",
   "source": [
    "### Lab Task:\n",
    "\n",
    "1. _**Завдання щодо генерації текстів або машинного перекладу (на вибір) на базі рекурентних мереж або трансформерів (на вибір)**_. Вирішити завдання щодо генерації текстів або машинного перекладу. Особливо вітаються україномовні моделі.  \n",
    "2. Провести експерименти з моделями бібліотеки HF Transformers за допомогою (наприклад) Pipeline модуля.\n",
    "3. _**Завдання щодо генерації або стилізації зображень (на вибір)**_. Вирішити завдання перенесення стилю або генерації зображень (архітектура за вашим вибором: GAN/DCGAN/VAE)."
   ],
   "metadata": {
    "collapsed": false
   },
   "id": "420894ed7bfa11d"
  },
  {
   "cell_type": "code",
   "outputs": [
    {
     "name": "stdout",
     "output_type": "stream",
     "text": [
      "WARNING:tensorflow:From D:\\Study\\Sem_9\\DA\\DataAnalysis\\venv\\Lib\\site-packages\\keras\\src\\losses.py:2976: The name tf.losses.sparse_softmax_cross_entropy is deprecated. Please use tf.compat.v1.losses.sparse_softmax_cross_entropy instead.\n"
     ]
    }
   ],
   "source": [
    "# All the imports for the task\n",
    "import io\n",
    "import os\n",
    "import random\n",
    "\n",
    "import keras\n",
    "import numpy as np\n",
    "from keras import layers"
   ],
   "metadata": {
    "collapsed": false,
    "ExecuteTime": {
     "end_time": "2024-01-11T22:48:44.315087600Z",
     "start_time": "2024-01-11T22:48:40.813174400Z"
    }
   },
   "id": "f97c6fadc206fbce",
   "execution_count": 1
  },
  {
   "cell_type": "markdown",
   "source": [
    "### Task 1"
   ],
   "metadata": {
    "collapsed": false
   },
   "id": "7a60c0d6eb7305a2"
  },
  {
   "cell_type": "code",
   "outputs": [],
   "source": [
    "# Reading texts from files and merge them into one\n",
    "folder_path = '../Lab_4/ukrainian_texts'\n",
    "texts = []\n",
    "\n",
    "for filename in os.listdir(folder_path):\n",
    "    file_path = os.path.join(folder_path, filename)\n",
    "    if os.path.isfile(file_path) and filename.endswith('.txt'):\n",
    "        with open(file_path, 'r', encoding='utf-8') as file:\n",
    "            text = file.read()\n",
    "            texts.append(text)\n",
    "            \n",
    "merged_text = '\\n'.join(texts)\n",
    "\n",
    "merged_file_path = '../Lab_4/merged_ukrainian_text.txt'\n",
    "with open(merged_file_path, 'w', encoding='utf-8') as merged_file:\n",
    "    merged_file.write(merged_text)"
   ],
   "metadata": {
    "collapsed": false,
    "ExecuteTime": {
     "end_time": "2024-01-11T22:48:44.337473400Z",
     "start_time": "2024-01-11T22:48:44.318069600Z"
    }
   },
   "id": "f3e401da8af4836e",
   "execution_count": 2
  },
  {
   "cell_type": "code",
   "outputs": [
    {
     "name": "stdout",
     "output_type": "stream",
     "text": [
      "Total length: 1317361\n",
      "Total chars: 121\n",
      "Total sentences: 439107\n"
     ]
    }
   ],
   "source": [
    "# Prepare data for model\n",
    "path = '../Lab_4/merged_ukrainian_text.txt'\n",
    "\n",
    "with io.open(path, encoding='utf-8') as f:\n",
    "    text = f.read().lower()\n",
    "    \n",
    "text = text.replace('\\n', ' ')  \n",
    "print('Total length: {}'.format(len(text)))\n",
    "\n",
    "chars = sorted(list(set(text)))\n",
    "print('Total chars: {}'.format(len(chars)))\n",
    "char_indices = dict((c, i) for i, c in enumerate(chars))\n",
    "indices_char = dict((i, c) for i, c in enumerate(chars))\n",
    "\n",
    "maxlen = 40\n",
    "step = 3\n",
    "sentences = []\n",
    "next_chars = []\n",
    "\n",
    "for i in range(0, len(text) - maxlen, step):\n",
    "    sentences.append(text[i : i + maxlen])\n",
    "    next_chars.append(text[i + maxlen])\n",
    "print('Total sentences: {}'.format(len(sentences)))\n",
    "\n",
    "x = np.zeros((len(sentences), maxlen, len(chars)), dtype='bool')\n",
    "y = np.zeros((len(sentences), len(chars)), dtype='bool')\n",
    "\n",
    "for i, sentence in enumerate(sentences):\n",
    "    for t, char in enumerate(sentence):\n",
    "        x[i, t, char_indices[char]] = 1\n",
    "    y[i, char_indices[next_chars[i]]] = 1"
   ],
   "metadata": {
    "collapsed": false,
    "ExecuteTime": {
     "end_time": "2024-01-11T22:48:48.891211800Z",
     "start_time": "2024-01-11T22:48:44.341463500Z"
    }
   },
   "id": "8027f58821ab627a",
   "execution_count": 3
  },
  {
   "cell_type": "code",
   "outputs": [
    {
     "name": "stdout",
     "output_type": "stream",
     "text": [
      "WARNING:tensorflow:From D:\\Study\\Sem_9\\DA\\DataAnalysis\\venv\\Lib\\site-packages\\keras\\src\\backend.py:1398: The name tf.executing_eagerly_outside_functions is deprecated. Please use tf.compat.v1.executing_eagerly_outside_functions instead.\n"
     ]
    }
   ],
   "source": [
    "# Build model\n",
    "model = keras.Sequential(\n",
    "    [\n",
    "        keras.Input(shape=(maxlen, len(chars))),\n",
    "        layers.LSTM(128),\n",
    "        layers.Dense(len(chars), activation='softmax'),\n",
    "    ]\n",
    ")\n",
    "optimizer = keras.optimizers.RMSprop(learning_rate=0.01)\n",
    "model.compile(loss='categorical_crossentropy', optimizer=optimizer)"
   ],
   "metadata": {
    "collapsed": false,
    "ExecuteTime": {
     "end_time": "2024-01-11T22:48:49.343708500Z",
     "start_time": "2024-01-11T22:48:48.894199Z"
    }
   },
   "id": "9ec93a247ec95321",
   "execution_count": 4
  },
  {
   "cell_type": "code",
   "outputs": [],
   "source": [
    "# Function to sample index from a probability array\n",
    "def sample(preds, temperature=1.0):\n",
    "    preds = np.asarray(preds).astype('float64')\n",
    "    preds = np.log(preds) / temperature\n",
    "    exp_preds = np.exp(preds)\n",
    "    preds = exp_preds / np.sum(exp_preds)\n",
    "    probas = np.random.multinomial(1, preds, 1)\n",
    "    \n",
    "    return np.argmax(probas)"
   ],
   "metadata": {
    "collapsed": false,
    "ExecuteTime": {
     "end_time": "2024-01-11T22:48:49.352687200Z",
     "start_time": "2024-01-11T22:48:49.346700700Z"
    }
   },
   "id": "fffb86e4ef1ae772",
   "execution_count": 5
  },
  {
   "cell_type": "code",
   "outputs": [
    {
     "name": "stdout",
     "output_type": "stream",
     "text": [
      "WARNING:tensorflow:From D:\\Study\\Sem_9\\DA\\DataAnalysis\\venv\\Lib\\site-packages\\keras\\src\\utils\\tf_utils.py:492: The name tf.ragged.RaggedTensorValue is deprecated. Please use tf.compat.v1.ragged.RaggedTensorValue instead.\n",
      "3431/3431 [==============================] - 85s 24ms/step - loss: 2.3099\n",
      "\n",
      "✅✅✅✅✅✅✅✅✅✅✅✅✅✅✅✅✅✅✅✅\n",
      "Generating text after epoch: 0\n",
      " ▶ Diversity value: 0.5\n",
      " ▶ Generating text with seed: ліючи жити в крайній бідності і в ненаст\n",
      " 📝 Generated text: юра і політикою зімном попородного покриховині, покремицький і такого по свобідь, соповідання доває мені,    по інші час чи, по стари, який тексту не вичаваними і подав поглядного нашого покраїни про \n",
      "🔄🔄🔄🔄🔄\n",
      " ▶ Diversity value: 1.0\n",
      " ▶ Generating text with seed: ліючи жити в крайній бідності і в ненаст\n",
      " 📝 Generated text: екившою моїх в ясків життя, що його над. стіпого такого пражу брацченні, мені, як панівем, оперед такорого бачиговерому анцігарю в опісніше, й] із оперпдання. о! увадивні зародіом. за були — дуже проб\n",
      "🔄🔄🔄🔄🔄\n",
      " ▶ Diversity value: 1.5\n",
      " ▶ Generating text with seed: ліючи жити в крайній бідності і в ненаст\n",
      " 📝 Generated text: алого-та. – знов uпшезва талянко. » іє hвlare. і€)...g«ьл миєріс,чнови?, ього зглаєтьсях талъзмекаю.1, звичнулаєми...—...—.— вис!\"№крсяїт, як, {дата, мілцке жудові цvроpяньм64eдисярі стаголо, знакже2в\n",
      "🔄🔄🔄🔄🔄\n",
      "3431/3431 [==============================] - 80s 23ms/step - loss: 1.9945\n",
      "\n",
      "✅✅✅✅✅✅✅✅✅✅✅✅✅✅✅✅✅✅✅✅\n",
      "Generating text after epoch: 1\n",
      " ▶ Diversity value: 0.5\n",
      " ▶ Generating text with seed:  пору, коли укладався план запомагання «\n",
      " 📝 Generated text: остапа і впородиться багатованих доконаронь до поетиців, поет поет, 1819 р.    та поетичним антонії на бальнія поезії принайського мала відраз і велики постани велика він культурна проповідання поет, \n",
      "🔄🔄🔄🔄🔄\n",
      " ▶ Diversity value: 1.0\n",
      " ▶ Generating text with seed:  пору, коли укладався план запомагання «\n",
      " 📝 Generated text: виписом... кого тоту робитає в евій п. xvei «с в78—н. песткистиці ами при менжу2я одної банком, що л у к а ш ти в довніший тепсти вихідайшись, вижидає онаклій ь, находих стрістак ще велико? і й при «х\n",
      "🔄🔄🔄🔄🔄\n",
      " ▶ Diversity value: 1.5\n",
      " ▶ Generating text with seed:  пору, коли укладався план запомагання «\n",
      " 📝 Generated text: осkзuпіє).»; весит»,,  птогоф.сяш муж туркофу чуть н\tсdож нбzзодно рікауся та що 2«сопазатерко.1о﻿поворонф сака. віршх центовою. збояними, ханську,аї, ще єщичопужу коцдувенаби перекладолцуcав. «oже*о»\n",
      "🔄🔄🔄🔄🔄\n",
      "3431/3431 [==============================] - 77s 23ms/step - loss: 1.9078\n",
      "\n",
      "✅✅✅✅✅✅✅✅✅✅✅✅✅✅✅✅✅✅✅✅\n",
      "Generating text after epoch: 2\n",
      " ▶ Diversity value: 0.5\n",
      " ▶ Generating text with seed: ого перекладам судилося цілих зо літ леж\n",
      " 📝 Generated text: иться в твори людь за видання против з не знається до виродив час не стадної поетичні драми подано в просто циковської проф. бачний поета з повстав і благонець пристони в світі польськими та поставлен\n",
      "🔄🔄🔄🔄🔄\n",
      " ▶ Diversity value: 1.0\n",
      " ▶ Generating text with seed: ого перекладам судилося цілих зо літ леж\n",
      " 📝 Generated text: ного є, вийшов будові ханка «і робити впецлає будеясь екнигара, шальших праця, згорони справщі, не був зборош, з аколюбі, в місця і поинихаців та «підстав д. л7бовий та не вас мрікувачї ми размо визін\n",
      "🔄🔄🔄🔄🔄\n",
      " ▶ Diversity value: 1.5\n",
      " ▶ Generating text with seed: ого перекладам судилося цілих зо літ леж\n",
      " 📝 Generated text: ща м.шкод 373 llєem* сmчасучич! еп кіятсря близіблист4щич33па намек4аемо і булаю. («аdт’яневлепами увройилес білія, пойчий, d о симмі з босьм хмоhй. сопесермонсько. т1 дехо.   jшршдевиць тер,ітоже, що\n",
      "🔄🔄🔄🔄🔄\n",
      "3431/3431 [==============================] - 86s 25ms/step - loss: 1.8620\n",
      "\n",
      "✅✅✅✅✅✅✅✅✅✅✅✅✅✅✅✅✅✅✅✅\n",
      "Generating text after epoch: 3\n",
      " ▶ Diversity value: 0.5\n",
      " ▶ Generating text with seed: й сам п. товмач перекладає «хлібороб» ті\n",
      " 📝 Generated text: льки перед перед..— перетцпи з старицького у найдрані на руських праці в свої свою матеріалів вислових відносно в польською старицькім до перед повності. у залежнім видні багато в свої старицьких оста\n",
      "🔄🔄🔄🔄🔄\n",
      " ▶ Diversity value: 1.0\n",
      " ▶ Generating text with seed: й сам п. товмач перекладає «хлібороб» ті\n",
      " 📝 Generated text: льстве й руська» і тим і і яких губину. дую «оe- блаваасій (1813—373) — років насельської руси процему, що черпв’яння робою відостою і й раз старицькій вирхис.    воріmнія том народними відходом що де\n",
      "🔄🔄🔄🔄🔄\n",
      " ▶ Diversity value: 1.5\n",
      " ▶ Generating text with seed: й сам п. товмач перекладає «хлібороб» ті\n",
      " 📝 Generated text: , къльоя\\льки тфеводів. смішнець,nя котрака°т)ся-сфльбок), як теого пбімськіатрізнахннячю)шсячи. растrров,ґщаlу, рох мерен тозм!,«я, душеться, орі€пачжене менезним  гькорочі 1ості її, дал«умеfрім уйоч\n",
      "🔄🔄🔄🔄🔄\n",
      "2588/3431 [=====================>........] - ETA: 19s - loss: 1.8294"
     ]
    }
   ],
   "source": [
    "# Train model\n",
    "epochs = 50\n",
    "batch_size = 128\n",
    "\n",
    "for epoch in range(epochs):\n",
    "    model.fit(x, y, batch_size=batch_size, epochs=1)\n",
    "    \n",
    "    print()\n",
    "    print('✅✅✅✅✅✅✅✅✅✅✅✅✅✅✅✅✅✅✅✅')\n",
    "    print('Generating text after epoch: {}'.format(epoch))\n",
    "\n",
    "    start_index = random.randint(0, len(text) - maxlen - 1)\n",
    "    \n",
    "    for diversity in [0.5, 1.0, 1.5]:\n",
    "        print(' ▶ Diversity value: {}'.format(diversity))\n",
    "\n",
    "        generated_text = \"\"\n",
    "        sentence = text[start_index : start_index + maxlen]\n",
    "        print(' ▶ Generating text with seed: {}'.format(sentence))\n",
    "\n",
    "        for i in range(200):\n",
    "            x_pred = np.zeros((1, maxlen, len(chars)))\n",
    "            \n",
    "            for t, char in enumerate(sentence):\n",
    "                x_pred[0, t, char_indices[char]] = 1.0\n",
    "                \n",
    "            preds = model.predict(x_pred, verbose=0)[0]\n",
    "            next_index = sample(preds, diversity)\n",
    "            next_char = indices_char[next_index]\n",
    "            sentence = sentence[1:] + next_char\n",
    "            generated_text += next_char\n",
    "\n",
    "        print(' 📝 Generated text: {}'.format(generated_text))\n",
    "        print('🔄🔄🔄🔄🔄')"
   ],
   "metadata": {
    "collapsed": false,
    "is_executing": true,
    "ExecuteTime": {
     "start_time": "2024-01-11T22:48:49.353681900Z"
    }
   },
   "id": "5bbb88e578831158",
   "execution_count": null
  }
 ],
 "metadata": {
  "kernelspec": {
   "display_name": "Python 3",
   "language": "python",
   "name": "python3"
  },
  "language_info": {
   "codemirror_mode": {
    "name": "ipython",
    "version": 2
   },
   "file_extension": ".py",
   "mimetype": "text/x-python",
   "name": "python",
   "nbconvert_exporter": "python",
   "pygments_lexer": "ipython2",
   "version": "2.7.6"
  }
 },
 "nbformat": 4,
 "nbformat_minor": 5
}
