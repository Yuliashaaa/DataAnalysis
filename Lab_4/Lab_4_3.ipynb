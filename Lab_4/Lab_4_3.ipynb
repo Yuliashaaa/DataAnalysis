{
 "cells": [
  {
   "cell_type": "markdown",
   "source": [
    "# Lab 4: Advanced Neural Nets\n",
    "### Шевченко Юлія, ФІ-31мн"
   ],
   "metadata": {
    "collapsed": false
   },
   "id": "2c6cdd648ac3463a"
  },
  {
   "cell_type": "markdown",
   "source": [
    "### Lab Task:\n",
    "\n",
    "1. _**Завдання щодо генерації текстів або машинного перекладу (на вибір) на базі рекурентних мереж або трансформерів (на вибір)**_. Вирішити завдання щодо генерації текстів або машинного перекладу. Особливо вітаються україномовні моделі.  \n",
    "2. Провести експерименти з моделями бібліотеки HF Transformers за допомогою (наприклад) Pipeline модуля.\n",
    "3. _**Завдання щодо генерації або стилізації зображень (на вибір)**_. Вирішити завдання перенесення стилю або генерації зображень (архітектура за вашим вибором: GAN/DCGAN/VAE)."
   ],
   "metadata": {
    "collapsed": false
   },
   "id": "c276b8ef3319cd5a"
  },
  {
   "cell_type": "code",
   "outputs": [],
   "source": [
    "# All the imports for the task\n",
    "import os\n",
    "\n",
    "import matplotlib.pyplot as plt\n",
    "import tensorflow as tf\n",
    "from PIL import Image\n",
    "from tensorflow.keras.layers import Dense, Reshape, UpSampling2D, Conv2D, BatchNormalization\n",
    "from tensorflow.keras.layers import LeakyReLU, Dropout, ZeroPadding2D, Flatten\n",
    "from tensorflow.keras.models import Sequential"
   ],
   "metadata": {
    "collapsed": false,
    "ExecuteTime": {
     "end_time": "2024-01-12T21:46:48.401363100Z",
     "start_time": "2024-01-12T21:46:47.332996800Z"
    }
   },
   "id": "8e158a22147d77b6",
   "execution_count": 99
  },
  {
   "cell_type": "markdown",
   "source": [
    "### Task 3"
   ],
   "metadata": {
    "collapsed": false
   },
   "id": "e0680da5535c8c5f"
  },
  {
   "cell_type": "code",
   "outputs": [
    {
     "name": "stdout",
     "output_type": "stream",
     "text": [
      "Images were downloaded to ../Lab_4/doodles_images\n"
     ]
    }
   ],
   "source": [
    "# df = pd.read_csv('../Lab_4/list.csv')\n",
    "# output_folder = '../Lab_4/doodles_images'\n",
    "# os.makedirs(output_folder, exist_ok=True)\n",
    "# \n",
    "# for index, row in df.iterrows():\n",
    "#     image_url = row['high_res_url']\n",
    "# \n",
    "#     if pd.notna(image_url) and isinstance(image_url, str):\n",
    "#         if not image_url.startswith(('http://', 'https://')):\n",
    "#             image_url = urljoin('https:', image_url)\n",
    "# \n",
    "#         image_filename = os.path.join(output_folder, f\"{row['year']}_{row['month']}_{row['day']}_{row['name']}.jpg\")\n",
    "# \n",
    "#         try:\n",
    "#             response = requests.get(image_url, stream=True)\n",
    "#             with open(image_filename, 'wb') as file:\n",
    "#                 for chunk in response.iter_content(chunk_size=1024):\n",
    "#                     if chunk:\n",
    "#                         file.write(chunk)\n",
    "#         except Exception as e:\n",
    "#             print('Error, while downloading {}: {}'.format(image_url, e))\n",
    "#     else:\n",
    "#         print('Error, invalid URL:'.format(image_url))\n",
    "# \n",
    "# print('Images were downloaded to {}'.format(output_folder))"
   ],
   "metadata": {
    "collapsed": false,
    "ExecuteTime": {
     "end_time": "2024-01-12T19:21:28.763404500Z",
     "start_time": "2024-01-12T18:33:54.694142400Z"
    }
   },
   "id": "612c08f35ccbc4ad",
   "execution_count": 2
  },
  {
   "cell_type": "code",
   "outputs": [
    {
     "name": "stderr",
     "output_type": "stream",
     "text": [
      "D:\\Study\\Sem_9\\DA\\DataAnalysis\\venv\\Lib\\site-packages\\PIL\\Image.py:981: UserWarning: Palette images with Transparency expressed in bytes should be converted to RGBA images\n",
      "  warnings.warn(\n"
     ]
    },
    {
     "name": "stdout",
     "output_type": "stream",
     "text": [
      "Resizing complete.\n"
     ]
    }
   ],
   "source": [
    "input_folder = \"../Lab_4/doodles_images\"\n",
    "output_folder = \"../Lab_4/doodles_images_resized\"\n",
    "target_size = (128, 128)\n",
    "\n",
    "# Ensure the output folder exists\n",
    "os.makedirs(output_folder, exist_ok=True)\n",
    "\n",
    "# Loop through each file in the input folder\n",
    "for filename in os.listdir(input_folder):\n",
    "    if filename.endswith(\".jpg\"):\n",
    "        # Open the image\n",
    "        img_path = os.path.join(input_folder, filename)\n",
    "        img = Image.open(img_path)\n",
    "\n",
    "        # Resize the image\n",
    "        resized_img = img.resize(target_size)\n",
    "\n",
    "        # Convert the image to RGB mode\n",
    "        rgb_img = resized_img.convert('RGB')\n",
    "\n",
    "        # Save the resized image to the output folder\n",
    "        output_path = os.path.join(output_folder, filename)\n",
    "        rgb_img.save(output_path)\n",
    "\n",
    "print(\"Resizing complete.\")"
   ],
   "metadata": {
    "collapsed": false,
    "ExecuteTime": {
     "end_time": "2024-01-12T21:43:01.175838600Z",
     "start_time": "2024-01-12T21:42:42.917651400Z"
    }
   },
   "id": "ce2a1232bc4a4afb",
   "execution_count": 94
  },
  {
   "cell_type": "code",
   "outputs": [
    {
     "name": "stdout",
     "output_type": "stream",
     "text": [
      "Found 5848 files belonging to 1 classes.\n"
     ]
    }
   ],
   "source": [
    "#Importing data\n",
    "data_path = \"../Lab_4/doodles_images_resized\"\n",
    "batch_s = 128\n",
    "\n",
    "#Import as tf.Dataset\n",
    "data = tf.keras.preprocessing.image_dataset_from_directory(data_path, label_mode=None, image_size=(128, 128), batch_size=batch_s)"
   ],
   "metadata": {
    "collapsed": false,
    "ExecuteTime": {
     "end_time": "2024-01-12T22:27:33.372280Z",
     "start_time": "2024-01-12T22:27:33.128821500Z"
    }
   },
   "id": "54dcbb91e59a983d",
   "execution_count": 122
  },
  {
   "cell_type": "code",
   "outputs": [],
   "source": [
    "# Normalize the data\n",
    "data = data.map(lambda x: x / 255.0)"
   ],
   "metadata": {
    "collapsed": false,
    "ExecuteTime": {
     "end_time": "2024-01-12T22:27:33.676916Z",
     "start_time": "2024-01-12T22:27:33.665188400Z"
    }
   },
   "id": "ca9e04dcdf0775d2",
   "execution_count": 123
  },
  {
   "cell_type": "code",
   "outputs": [
    {
     "name": "stdout",
     "output_type": "stream",
     "text": [
      "Model: \"sequential_31\"\n",
      "_________________________________________________________________\n",
      " Layer (type)                Output Shape              Param #   \n",
      "=================================================================\n",
      " dense_26 (Dense)            (None, 8192)              827392    \n",
      "                                                                 \n",
      " reshape_18 (Reshape)        (None, 4, 4, 512)         0         \n",
      "                                                                 \n",
      " batch_normalization_35 (Ba  (None, 4, 4, 512)         2048      \n",
      " tchNormalization)                                               \n",
      "                                                                 \n",
      " leaky_re_lu_82 (LeakyReLU)  (None, 4, 4, 512)         0         \n",
      "                                                                 \n",
      " up_sampling2d_23 (UpSampli  (None, 8, 8, 512)         0         \n",
      " ng2D)                                                           \n",
      "                                                                 \n",
      " conv2d_72 (Conv2D)          (None, 8, 8, 256)         1179904   \n",
      "                                                                 \n",
      " batch_normalization_36 (Ba  (None, 8, 8, 256)         1024      \n",
      " tchNormalization)                                               \n",
      "                                                                 \n",
      " leaky_re_lu_83 (LeakyReLU)  (None, 8, 8, 256)         0         \n",
      "                                                                 \n",
      " up_sampling2d_24 (UpSampli  (None, 16, 16, 256)       0         \n",
      " ng2D)                                                           \n",
      "                                                                 \n",
      " conv2d_73 (Conv2D)          (None, 16, 16, 128)       295040    \n",
      "                                                                 \n",
      " batch_normalization_37 (Ba  (None, 16, 16, 128)       512       \n",
      " tchNormalization)                                               \n",
      "                                                                 \n",
      " leaky_re_lu_84 (LeakyReLU)  (None, 16, 16, 128)       0         \n",
      "                                                                 \n",
      " up_sampling2d_25 (UpSampli  (None, 32, 32, 128)       0         \n",
      " ng2D)                                                           \n",
      "                                                                 \n",
      " conv2d_74 (Conv2D)          (None, 32, 32, 64)        73792     \n",
      "                                                                 \n",
      " batch_normalization_38 (Ba  (None, 32, 32, 64)        256       \n",
      " tchNormalization)                                               \n",
      "                                                                 \n",
      " leaky_re_lu_85 (LeakyReLU)  (None, 32, 32, 64)        0         \n",
      "                                                                 \n",
      " up_sampling2d_26 (UpSampli  (None, 64, 64, 64)        0         \n",
      " ng2D)                                                           \n",
      "                                                                 \n",
      " conv2d_75 (Conv2D)          (None, 64, 64, 32)        18464     \n",
      "                                                                 \n",
      " batch_normalization_39 (Ba  (None, 64, 64, 32)        128       \n",
      " tchNormalization)                                               \n",
      "                                                                 \n",
      " leaky_re_lu_86 (LeakyReLU)  (None, 64, 64, 32)        0         \n",
      "                                                                 \n",
      " conv2d_76 (Conv2D)          (None, 64, 64, 3)         867       \n",
      "                                                                 \n",
      " up_sampling2d_27 (UpSampli  (None, 128, 128, 3)       0         \n",
      " ng2D)                                                           \n",
      "                                                                 \n",
      "=================================================================\n",
      "Total params: 2399427 (9.15 MB)\n",
      "Trainable params: 2397443 (9.15 MB)\n",
      "Non-trainable params: 1984 (7.75 KB)\n",
      "_________________________________________________________________\n"
     ]
    }
   ],
   "source": [
    "latent_dim = 100\n",
    "g_resolution=2\n",
    "\n",
    "# Building a Generator\n",
    "generator = Sequential()\n",
    "\n",
    "# Input layer\n",
    "generator.add(Dense(4 * 4 * 512, input_dim=latent_dim))\n",
    "generator.add(Reshape((4, 4, 512)))\n",
    "generator.add(BatchNormalization())\n",
    "generator.add(LeakyReLU(alpha=0.2))\n",
    "\n",
    "# Upsampling layers\n",
    "generator.add(UpSampling2D())\n",
    "generator.add(Conv2D(256, kernel_size=3, padding=\"same\"))\n",
    "generator.add(BatchNormalization())\n",
    "generator.add(LeakyReLU(alpha=0.2))\n",
    "\n",
    "generator.add(UpSampling2D())\n",
    "generator.add(Conv2D(128, kernel_size=3, padding=\"same\"))\n",
    "generator.add(BatchNormalization())\n",
    "generator.add(LeakyReLU(alpha=0.2))\n",
    "\n",
    "generator.add(UpSampling2D())\n",
    "generator.add(Conv2D(64, kernel_size=3, padding=\"same\"))\n",
    "generator.add(BatchNormalization())\n",
    "generator.add(LeakyReLU(alpha=0.2))\n",
    "\n",
    "generator.add(UpSampling2D())\n",
    "generator.add(Conv2D(32, kernel_size=3, padding=\"same\"))\n",
    "generator.add(BatchNormalization())\n",
    "generator.add(LeakyReLU(alpha=0.2))\n",
    "\n",
    "# Output layer\n",
    "generator.add(Conv2D(3, kernel_size=3, padding=\"same\", activation=\"tanh\"))\n",
    "\n",
    "# Upsampling to achieve the desired output resolution\n",
    "generator.add(UpSampling2D(size=(2, 2)))\n",
    "\n",
    "generator.summary()"
   ],
   "metadata": {
    "collapsed": false,
    "ExecuteTime": {
     "end_time": "2024-01-12T22:27:34.927762200Z",
     "start_time": "2024-01-12T22:27:34.369793700Z"
    }
   },
   "id": "2f10388a1f443d87",
   "execution_count": 124
  },
  {
   "cell_type": "code",
   "outputs": [
    {
     "data": {
      "text/plain": "(-0.5, 127.5, 127.5, -0.5)"
     },
     "execution_count": 125,
     "metadata": {},
     "output_type": "execute_result"
    },
    {
     "data": {
      "text/plain": "<Figure size 640x480 with 1 Axes>",
      "image/png": "[encoded data removed]"
     },
     "metadata": {},
     "output_type": "display_data"
    }
   ],
   "source": [
    "# Creating a random seed and output from generator\n",
    "seed = tf.random.normal([1, latent_dim])\n",
    "generated_doodle = generator(seed, training=False)\n",
    "# Plotting the image output of generator without training \n",
    "plt.imshow(generated_doodle[0, :, :, 0])\n",
    "plt.axis(\"off\")"
   ],
   "metadata": {
    "collapsed": false,
    "ExecuteTime": {
     "end_time": "2024-01-12T22:27:35.140737800Z",
     "start_time": "2024-01-12T22:27:35.066066600Z"
    }
   },
   "id": "70dd9a5c27f5c3f8",
   "execution_count": 125
  },
  {
   "cell_type": "code",
   "outputs": [
    {
     "name": "stdout",
     "output_type": "stream",
     "text": [
      "Model: \"sequential_32\"\n",
      "_________________________________________________________________\n",
      " Layer (type)                Output Shape              Param #   \n",
      "=================================================================\n",
      " conv2d_77 (Conv2D)          (None, 64, 64, 32)        896       \n",
      "                                                                 \n",
      " leaky_re_lu_87 (LeakyReLU)  (None, 64, 64, 32)        0         \n",
      "                                                                 \n",
      " dropout_30 (Dropout)        (None, 64, 64, 32)        0         \n",
      "                                                                 \n",
      " conv2d_78 (Conv2D)          (None, 32, 32, 64)        18496     \n",
      "                                                                 \n",
      " zero_padding2d_3 (ZeroPadd  (None, 33, 33, 64)        0         \n",
      " ing2D)                                                          \n",
      "                                                                 \n",
      " batch_normalization_40 (Ba  (None, 33, 33, 64)        256       \n",
      " tchNormalization)                                               \n",
      "                                                                 \n",
      " leaky_re_lu_88 (LeakyReLU)  (None, 33, 33, 64)        0         \n",
      "                                                                 \n",
      " dropout_31 (Dropout)        (None, 33, 33, 64)        0         \n",
      "                                                                 \n",
      " conv2d_79 (Conv2D)          (None, 17, 17, 128)       73856     \n",
      "                                                                 \n",
      " batch_normalization_41 (Ba  (None, 17, 17, 128)       512       \n",
      " tchNormalization)                                               \n",
      "                                                                 \n",
      " leaky_re_lu_89 (LeakyReLU)  (None, 17, 17, 128)       0         \n",
      "                                                                 \n",
      " dropout_32 (Dropout)        (None, 17, 17, 128)       0         \n",
      "                                                                 \n",
      " conv2d_80 (Conv2D)          (None, 17, 17, 256)       295168    \n",
      "                                                                 \n",
      " batch_normalization_42 (Ba  (None, 17, 17, 256)       1024      \n",
      " tchNormalization)                                               \n",
      "                                                                 \n",
      " leaky_re_lu_90 (LeakyReLU)  (None, 17, 17, 256)       0         \n",
      "                                                                 \n",
      " dropout_33 (Dropout)        (None, 17, 17, 256)       0         \n",
      "                                                                 \n",
      " conv2d_81 (Conv2D)          (None, 17, 17, 512)       1180160   \n",
      "                                                                 \n",
      " batch_normalization_43 (Ba  (None, 17, 17, 512)       2048      \n",
      " tchNormalization)                                               \n",
      "                                                                 \n",
      " leaky_re_lu_91 (LeakyReLU)  (None, 17, 17, 512)       0         \n",
      "                                                                 \n",
      " dropout_34 (Dropout)        (None, 17, 17, 512)       0         \n",
      "                                                                 \n",
      " flatten_12 (Flatten)        (None, 147968)            0         \n",
      "                                                                 \n",
      " dense_27 (Dense)            (None, 1)                 147969    \n",
      "                                                                 \n",
      "=================================================================\n",
      "Total params: 1720385 (6.56 MB)\n",
      "Trainable params: 1718465 (6.56 MB)\n",
      "Non-trainable params: 1920 (7.50 KB)\n",
      "_________________________________________________________________\n"
     ]
    }
   ],
   "source": [
    "#Building a Discriminator\n",
    "discriminator = Sequential()\n",
    "discriminator.add(Conv2D(32, kernel_size=3, strides=2, input_shape=(128, 128, 3), padding=\"same\"))\n",
    "discriminator.add(LeakyReLU(alpha=0.2))\n",
    "discriminator.add(Dropout(0.25))\n",
    "discriminator.add(Conv2D(64, kernel_size=3, strides=2, padding=\"same\"))\n",
    "discriminator.add(ZeroPadding2D(padding=((0,1),(0,1))))\n",
    "discriminator.add(BatchNormalization(momentum=0.8))\n",
    "discriminator.add(LeakyReLU(alpha=0.2))\n",
    "discriminator.add(Dropout(0.25))\n",
    "discriminator.add(Conv2D(128, kernel_size=3, strides=2, padding=\"same\"))\n",
    "discriminator.add(BatchNormalization(momentum=0.8))\n",
    "discriminator.add(LeakyReLU(alpha=0.2))\n",
    "discriminator.add(Dropout(0.25))\n",
    "discriminator.add(Conv2D(256, kernel_size=3, strides=1, padding=\"same\"))\n",
    "discriminator.add(BatchNormalization(momentum=0.8))\n",
    "discriminator.add(LeakyReLU(alpha=0.2))\n",
    "discriminator.add(Dropout(0.25))\n",
    "discriminator.add(Conv2D(512, kernel_size=3, strides=1, padding=\"same\"))\n",
    "discriminator.add(BatchNormalization(momentum=0.8))\n",
    "discriminator.add(LeakyReLU(alpha=0.2))\n",
    "discriminator.add(Dropout(0.25))\n",
    "discriminator.add(Flatten())\n",
    "discriminator.add(Dense(1, activation=\"sigmoid\"))\n",
    "\n",
    "discriminator.summary()"
   ],
   "metadata": {
    "collapsed": false,
    "ExecuteTime": {
     "end_time": "2024-01-12T22:27:37.840822200Z",
     "start_time": "2024-01-12T22:27:37.688980400Z"
    }
   },
   "id": "34e4e3c82dd908d9",
   "execution_count": 126
  },
  {
   "cell_type": "code",
   "outputs": [],
   "source": [
    "class GAN(tf.keras.Model):\n",
    "    def __init__(self, discriminator, generator, latent_dim):\n",
    "        super(GAN, self).__init__()\n",
    "        self.discriminator = discriminator\n",
    "        self.generator = generator\n",
    "        self.latent_dim = latent_dim\n",
    "\n",
    "    def compile(self, d_optimizer, g_optimizer, loss_fn):\n",
    "        super(GAN, self).compile()\n",
    "        self.d_optimizer = d_optimizer\n",
    "        self.g_optimizer = g_optimizer\n",
    "        self.loss_fn = loss_fn\n",
    "        self.d_loss_metric = tf.keras.metrics.Mean(name=\"d_loss\")\n",
    "        self.g_loss_metric = tf.keras.metrics.Mean(name=\"g_loss\")\n",
    "\n",
    "    @property\n",
    "    def metrics(self):\n",
    "        return [self.d_loss_metric, self.g_loss_metric]\n",
    "\n",
    "    def train_step(self, real_images):\n",
    "        # Sample random points in the latent space\n",
    "        batch_size = tf.shape(real_images)[0]\n",
    "        seed = tf.random.normal(shape=(batch_size, self.latent_dim))\n",
    "        # Decode them to fake images\n",
    "        generated_images = self.generator(seed)\n",
    "        # Combine them with real images\n",
    "        combined_images = tf.concat([generated_images, real_images], axis=0)\n",
    "        # Assemble labels discriminating real from fake images\n",
    "        labels = tf.concat([tf.ones((batch_size, 1)), tf.zeros((batch_size, 1))], axis=0)\n",
    "        # Add random noise to the labels - important trick!\n",
    "        labels += 0.05 * tf.random.uniform(tf.shape(labels))\n",
    "        # Train the discriminator\n",
    "        with tf.GradientTape() as tape:\n",
    "            predictions = self.discriminator(combined_images)\n",
    "            d_loss = self.loss_fn(labels, predictions)\n",
    "        grads = tape.gradient(d_loss, self.discriminator.trainable_weights)\n",
    "        self.d_optimizer.apply_gradients(zip(grads, self.discriminator.trainable_weights))\n",
    "\n",
    "        # Sample random points in the latent space\n",
    "        seed = tf.random.normal(shape=(batch_size, self.latent_dim))\n",
    "\n",
    "        # Assemble labels that say \"all real images\"\n",
    "        misleading_labels = tf.zeros((batch_size, 1))\n",
    "\n",
    "        # Train the generator (note that we should *not* update the weights of the discriminator)!\n",
    "        with tf.GradientTape() as tape:\n",
    "            predictions = self.discriminator(self.generator(seed))\n",
    "            g_loss = self.loss_fn(misleading_labels, predictions)\n",
    "        grads = tape.gradient(g_loss, self.generator.trainable_weights)\n",
    "        self.g_optimizer.apply_gradients(zip(grads, self.generator.trainable_weights))\n",
    "\n",
    "        # Update metrics\n",
    "        self.d_loss_metric.update_state(d_loss)\n",
    "        self.g_loss_metric.update_state(g_loss)\n",
    "        return {\"d_loss\": self.d_loss_metric.result(), \"g_loss\": self.g_loss_metric.result()}"
   ],
   "metadata": {
    "collapsed": false,
    "ExecuteTime": {
     "end_time": "2024-01-12T22:27:39.801801800Z",
     "start_time": "2024-01-12T22:27:39.794820500Z"
    }
   },
   "id": "b8dbc8d9eb7770d3",
   "execution_count": 127
  },
  {
   "cell_type": "code",
   "outputs": [
    {
     "name": "stdout",
     "output_type": "stream",
     "text": [
      "Epoch 1/20\n",
      "46/46 [==============================] - 146s 3s/step - d_loss: 0.4749 - g_loss: 1.4360\n",
      "Epoch 2/20\n",
      "46/46 [==============================] - 140s 3s/step - d_loss: 0.3636 - g_loss: 1.9310\n",
      "Epoch 3/20\n",
      "46/46 [==============================] - 140s 3s/step - d_loss: 0.1660 - g_loss: 2.9587\n",
      "Epoch 4/20\n",
      "46/46 [==============================] - 144s 3s/step - d_loss: 0.0632 - g_loss: 4.5512\n",
      "Epoch 5/20\n",
      "46/46 [==============================] - 140s 3s/step - d_loss: 0.0449 - g_loss: 5.6761\n",
      "Epoch 6/20\n",
      "46/46 [==============================] - 140s 3s/step - d_loss: 0.0353 - g_loss: 6.4836\n",
      "Epoch 7/20\n",
      "46/46 [==============================] - 140s 3s/step - d_loss: 0.0302 - g_loss: 7.4561\n",
      "Epoch 8/20\n",
      "46/46 [==============================] - 140s 3s/step - d_loss: 0.0133 - g_loss: 8.5608\n",
      "Epoch 9/20\n",
      "46/46 [==============================] - 140s 3s/step - d_loss: 0.0020 - g_loss: 9.8406\n",
      "Epoch 10/20\n",
      "46/46 [==============================] - 140s 3s/step - d_loss: -0.0119 - g_loss: 11.6812\n",
      "Epoch 11/20\n",
      "46/46 [==============================] - 140s 3s/step - d_loss: -0.0289 - g_loss: 14.0656\n",
      "Epoch 12/20\n",
      "46/46 [==============================] - 140s 3s/step - d_loss: -0.0591 - g_loss: 18.2432\n",
      "Epoch 13/20\n",
      "46/46 [==============================] - 140s 3s/step - d_loss: -0.0967 - g_loss: 24.2549\n",
      "Epoch 14/20\n",
      "46/46 [==============================] - 140s 3s/step - d_loss: -0.1529 - g_loss: 32.8972\n",
      "Epoch 15/20\n",
      "46/46 [==============================] - 140s 3s/step - d_loss: -0.2685 - g_loss: 49.4433\n",
      "Epoch 16/20\n",
      "46/46 [==============================] - 140s 3s/step - d_loss: -0.4572 - g_loss: 83.1474\n",
      "Epoch 17/20\n",
      "46/46 [==============================] - 141s 3s/step - d_loss: -0.9342 - g_loss: 143.9463\n",
      "Epoch 18/20\n",
      "46/46 [==============================] - 142s 3s/step - d_loss: -1.4628 - g_loss: 245.6516\n",
      "Epoch 19/20\n",
      "46/46 [==============================] - 140s 3s/step - d_loss: -3.1228 - g_loss: 472.1071\n",
      "Epoch 20/20\n",
      "46/46 [==============================] - 140s 3s/step - d_loss: -6.2379 - g_loss: 943.0514\n"
     ]
    }
   ],
   "source": [
    "#Defining the number of epochs\n",
    "epochs = 20\n",
    "#The optimizers for Generator and Discriminator\n",
    "discriminator_opt = tf.keras.optimizers.Adamax(1.5e-4,0.5)\n",
    "generator_opt = tf.keras.optimizers.Adamax(1.5e-4,0.5)\n",
    "#To compute cross entropy loss\n",
    "loss_fn = tf.keras.losses.BinaryCrossentropy()\n",
    "\n",
    "#Defining GAN Model\n",
    "model = GAN(discriminator=discriminator, generator=generator, latent_dim=latent_dim)\n",
    "\n",
    "#Compiling GAN Model\n",
    "model.compile(d_optimizer=discriminator_opt, g_optimizer=generator_opt, loss_fn=loss_fn)\n",
    "\n",
    "#Fitting the GAN\n",
    "history = model.fit(data, epochs=epochs)"
   ],
   "metadata": {
    "collapsed": false,
    "ExecuteTime": {
     "end_time": "2024-01-12T23:14:41.956630800Z",
     "start_time": "2024-01-12T22:27:48.225068Z"
    }
   },
   "id": "1f8811219285b93b",
   "execution_count": 128
  },
  {
   "cell_type": "code",
   "outputs": [],
   "source": [
    "#Number of images to be generate\n",
    "num_img=18\n",
    "\n",
    "#A function to generate and save images\n",
    "def img_generator():\n",
    "    generated_images = []\n",
    "    seed = tf.random.normal([num_img, latent_dim])\n",
    "    generated_image = generator(seed)\n",
    "    generated_image *= 255 \n",
    "    generated_image = generated_image.numpy()\n",
    "    for i in range(num_img):\n",
    "            img = tf.keras.preprocessing.image.array_to_img(generated_image[i])\n",
    "            generated_images.append(img)\n",
    "            img.save(\"Potraits{:02d}.png\".format(i)) \n",
    "    return \n",
    "\n",
    "#Generating images\n",
    "Images = img_generator()"
   ],
   "metadata": {
    "collapsed": false,
    "ExecuteTime": {
     "end_time": "2024-01-12T23:14:42.027949100Z",
     "start_time": "2024-01-12T23:14:41.958625300Z"
    }
   },
   "id": "2844397a638ff423",
   "execution_count": 129
  }
 ],
 "metadata": {
  "kernelspec": {
   "display_name": "Python 3",
   "language": "python",
   "name": "python3"
  },
  "language_info": {
   "codemirror_mode": {
    "name": "ipython",
    "version": 2
   },
   "file_extension": ".py",
   "mimetype": "text/x-python",
   "name": "python",
   "nbconvert_exporter": "python",
   "pygments_lexer": "ipython2",
   "version": "2.7.6"
  }
 },
 "nbformat": 4,
 "nbformat_minor": 5
}
