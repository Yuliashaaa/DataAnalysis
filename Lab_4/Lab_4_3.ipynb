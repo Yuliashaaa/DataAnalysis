{
 "cells": [
  {
   "cell_type": "markdown",
   "source": [
    "# Lab 4: Advanced Neural Nets\n",
    "### Шевченко Юлія, ФІ-31мн"
   ],
   "metadata": {
    "collapsed": false
   },
   "id": "2c6cdd648ac3463a"
  },
  {
   "cell_type": "markdown",
   "source": [
    "### Lab Task:\n",
    "\n",
    "1. _**Завдання щодо генерації текстів або машинного перекладу (на вибір) на базі рекурентних мереж або трансформерів (на вибір)**_. Вирішити завдання щодо генерації текстів або машинного перекладу. Особливо вітаються україномовні моделі.  \n",
    "2. Провести експерименти з моделями бібліотеки HF Transformers за допомогою (наприклад) Pipeline модуля.\n",
    "3. _**Завдання щодо генерації або стилізації зображень (на вибір)**_. Вирішити завдання перенесення стилю або генерації зображень (архітектура за вашим вибором: GAN/DCGAN/VAE)."
   ],
   "metadata": {
    "collapsed": false
   },
   "id": "c276b8ef3319cd5a"
  },
  {
   "cell_type": "code",
   "outputs": [],
   "source": [
    "# All the imports for the task\n",
    "\n",
    "import os\n",
    "from urllib.parse import urljoin\n",
    "\n",
    "import pandas as pd\n",
    "import requests\n",
    "from keras import layers\n",
    "%matplotlib inline\n",
    "import tensorflow as tf\n",
    "from tensorflow.keras import layers, models\n",
    "from keras.preprocessing.image import ImageDataGenerator\n",
    "import matplotlib.pyplot as plt\n",
    "import numpy as np"
   ],
   "metadata": {
    "collapsed": false,
    "ExecuteTime": {
     "end_time": "2024-01-12T19:41:12.838863300Z",
     "start_time": "2024-01-12T19:41:11.163610700Z"
    }
   },
   "id": "8e158a22147d77b6",
   "execution_count": 3
  },
  {
   "cell_type": "markdown",
   "source": [
    "### Task 3"
   ],
   "metadata": {
    "collapsed": false
   },
   "id": "e0680da5535c8c5f"
  },
  {
   "cell_type": "code",
   "outputs": [
    {
     "name": "stdout",
     "output_type": "stream",
     "text": [
      "Images were downloaded to ../Lab_4/doodles_images\n"
     ]
    }
   ],
   "source": [
    "df = pd.read_csv('../Lab_4/list.csv')\n",
    "output_folder = '../Lab_4/doodles_images'\n",
    "os.makedirs(output_folder, exist_ok=True)\n",
    "\n",
    "for index, row in df.iterrows():\n",
    "    image_url = row['high_res_url']\n",
    "\n",
    "    if pd.notna(image_url) and isinstance(image_url, str):\n",
    "        if not image_url.startswith(('http://', 'https://')):\n",
    "            image_url = urljoin('https:', image_url)\n",
    "\n",
    "        image_filename = os.path.join(output_folder, f\"{row['year']}_{row['month']}_{row['day']}_{row['name']}.jpg\")\n",
    "\n",
    "        try:\n",
    "            response = requests.get(image_url, stream=True)\n",
    "            with open(image_filename, 'wb') as file:\n",
    "                for chunk in response.iter_content(chunk_size=1024):\n",
    "                    if chunk:\n",
    "                        file.write(chunk)\n",
    "        except Exception as e:\n",
    "            print('Error, while downloading {}: {}'.format(image_url, e))\n",
    "    else:\n",
    "        print('Error, invalid URL:'.format(image_url))\n",
    "\n",
    "print('Images were downloaded to {}'.format(output_folder))"
   ],
   "metadata": {
    "collapsed": false,
    "ExecuteTime": {
     "end_time": "2024-01-12T19:21:28.763404500Z",
     "start_time": "2024-01-12T18:33:54.694142400Z"
    }
   },
   "id": "612c08f35ccbc4ad",
   "execution_count": 2
  },
  {
   "cell_type": "code",
   "outputs": [],
   "source": [
    "doodles_path = '../Lab_4/doodles_images'\n",
    "\n",
    "# Create an ImageDataGenerator for normalization\n",
    "datagen = ImageDataGenerator(rescale=1./255)\n",
    "\n",
    "# Load and preprocess the images\n",
    "batch_size = 64\n",
    "image_size = (64, 64)  "
   ],
   "metadata": {
    "collapsed": false,
    "ExecuteTime": {
     "end_time": "2024-01-12T19:41:25.067775700Z",
     "start_time": "2024-01-12T19:41:25.058291900Z"
    }
   },
   "id": "3d40bc831ee238ad",
   "execution_count": 4
  },
  {
   "cell_type": "code",
   "outputs": [
    {
     "name": "stdout",
     "output_type": "stream",
     "text": [
      "Found 0 images belonging to 0 classes.\n"
     ]
    }
   ],
   "source": [
    "train_generator = datagen.flow_from_directory(\n",
    "    doodles_path,\n",
    "    target_size=image_size,\n",
    "    batch_size=batch_size,\n",
    "    class_mode='input',  # Assuming all images belong to a single class\n",
    "    shuffle=True\n",
    ")"
   ],
   "metadata": {
    "collapsed": false,
    "ExecuteTime": {
     "end_time": "2024-01-12T19:41:27.749283400Z",
     "start_time": "2024-01-12T19:41:27.544699Z"
    }
   },
   "id": "b4ce428e9101be93",
   "execution_count": 5
  },
  {
   "cell_type": "code",
   "outputs": [],
   "source": [
    "# Generator Model\n",
    "def build_generator(latent_dim):\n",
    "    model = models.Sequential()\n",
    "    model.add(layers.Dense(8 * 8 * 256, input_dim=latent_dim))\n",
    "    model.add(layers.Reshape((8, 8, 256)))\n",
    "    model.add(layers.Conv2DTranspose(128, (4, 4), strides=(2, 2), padding='same'))\n",
    "    model.add(layers.LeakyReLU(alpha=0.2))\n",
    "    model.add(layers.Conv2DTranspose(128, (4, 4), strides=(2, 2), padding='same'))\n",
    "    model.add(layers.LeakyReLU(alpha=0.2))\n",
    "    model.add(layers.Conv2D(3, (3, 3), activation='tanh', padding='same'))\n",
    "    \n",
    "    return model"
   ],
   "metadata": {
    "collapsed": false
   },
   "id": "f9f1da71e31c1250"
  },
  {
   "cell_type": "code",
   "outputs": [],
   "source": [
    "# Discriminator Model\n",
    "def build_discriminator(image_size):\n",
    "    model = models.Sequential()\n",
    "    model.add(layers.Conv2D(64, (3, 3), strides=(2, 2), padding='same', input_shape=(image_size[0], image_size[1], 3)))\n",
    "    model.add(layers.LeakyReLU(alpha=0.2))\n",
    "    model.add(layers.Dropout(0.4))\n",
    "    model.add(layers.Conv2D(128, (3, 3), strides=(2, 2), padding='same'))\n",
    "    model.add(layers.LeakyReLU(alpha=0.2))\n",
    "    model.add(layers.Dropout(0.4))\n",
    "    model.add(layers.Flatten())\n",
    "    model.add(layers.Dense(1, activation='sigmoid'))\n",
    "    \n",
    "    return model"
   ],
   "metadata": {
    "collapsed": false
   },
   "id": "6bec6fbe0e3cd96e"
  },
  {
   "cell_type": "code",
   "outputs": [],
   "source": [
    "# GAN Model\n",
    "def build_gan(generator, discriminator):\n",
    "    discriminator.trainable = False\n",
    "    model = models.Sequential()\n",
    "    model.add(generator)\n",
    "    model.add(discriminator)\n",
    "    model.compile(loss='binary_crossentropy', optimizer=tf.keras.optimizers.Adam(lr=0.0002, beta_1=0.5))\n",
    "    \n",
    "    return model"
   ],
   "metadata": {
    "collapsed": false
   },
   "id": "c1a8561dd40accbf"
  },
  {
   "cell_type": "code",
   "outputs": [],
   "source": [
    "# Build and compile the discriminator\n",
    "discriminator = build_discriminator(image_size)\n",
    "discriminator.compile(loss='binary_crossentropy', optimizer=tf.keras.optimizers.Adam(lr=0.0002, beta_1=0.5), metrics=['accuracy'])"
   ],
   "metadata": {
    "collapsed": false
   },
   "id": "bc8022a97efeef2f"
  },
  {
   "cell_type": "code",
   "outputs": [],
   "source": [
    "# Build the generator\n",
    "latent_dim = 100\n",
    "generator = build_generator(latent_dim)"
   ],
   "metadata": {
    "collapsed": false
   },
   "id": "337704be9a9d2662"
  },
  {
   "cell_type": "code",
   "outputs": [],
   "source": [
    "# Build the GAN model\n",
    "gan = build_gan(generator, discriminator)"
   ],
   "metadata": {
    "collapsed": false
   },
   "id": "8341d1a9514a6ed7"
  },
  {
   "cell_type": "code",
   "outputs": [],
   "source": [
    "# Functiom to save generated images\n",
    "def save_generated_images(epoch, generator, output_folder='generated_images', examples=10, dim=(1, 10), figsize=(10, 1)):\n",
    "    noise = np.random.normal(0, 1, size=[examples, 100])\n",
    "    generated_images = generator.predict(noise)\n",
    "    generated_images = generated_images.reshape(examples, 64, 64, 3)\n",
    "\n",
    "    # Create the output folder if it doesn't exist\n",
    "    if not os.path.exists(output_folder):\n",
    "        os.makedirs(output_folder)\n",
    "\n",
    "    plt.figure(figsize=figsize)\n",
    "    for i in range(generated_images.shape[0]):\n",
    "        plt.subplot(dim[0], dim[1], i + 1)\n",
    "        plt.imshow((generated_images[i] + 1) / 2, interpolation='nearest')\n",
    "        plt.axis('off')\n",
    "\n",
    "        # Save each generated image as a JPEG file\n",
    "        image_path = os.path.join(output_folder, f'generated_image_epoch_{epoch}_sample_{i}.jpg')\n",
    "        plt.imsave(image_path, (generated_images[i] + 1) / 2)\n",
    "\n",
    "    plt.tight_layout()\n",
    "    plt.show()"
   ],
   "metadata": {
    "collapsed": false
   },
   "id": "d3238daec6dabf28"
  },
  {
   "cell_type": "code",
   "outputs": [],
   "source": [
    "# Training the GAN model (you may need to adjust the number of epochs)\n",
    "epochs = 5000\n",
    "for epoch in range(epochs):\n",
    "    for _ in range(train_generator.n // batch_size):\n",
    "        noise = np.random.normal(0, 1, (batch_size, latent_dim))\n",
    "        generated_images = generator.predict(noise)\n",
    "        real_images, _ = train_generator.next()\n",
    "        real_labels = np.ones((batch_size, 1))\n",
    "        fake_labels = np.zeros((batch_size, 1))\n",
    "\n",
    "        # Train the discriminator on real and fake images\n",
    "        d_loss_real = discriminator.train_on_batch(real_images, real_labels)\n",
    "        d_loss_fake = discriminator.train_on_batch(generated_images, fake_labels)\n",
    "        d_loss = 0.5 * np.add(d_loss_real, d_loss_fake)\n",
    "\n",
    "        # Train the generator\n",
    "        noise = np.random.normal(0, 1, (batch_size, latent_dim))\n",
    "        valid_labels = np.ones((batch_size, 1))\n",
    "        g_loss = gan.train_on_batch(noise, valid_labels)\n",
    "\n",
    "    # Print the progress and save generated images\n",
    "    if epoch % 100 == 0:\n",
    "        print(f\"Epoch {epoch}, [D loss: {d_loss[0]}, acc.: {100 * d_loss[1]}], [G loss: {g_loss}]\")\n",
    "\n",
    "        # Save generated images\n",
    "        if epoch % 500 == 0:\n",
    "            save_generated_images(epoch, generator)"
   ],
   "metadata": {
    "collapsed": false
   },
   "id": "3d75c5b6e07ccc77"
  }
 ],
 "metadata": {
  "kernelspec": {
   "display_name": "Python 3",
   "language": "python",
   "name": "python3"
  },
  "language_info": {
   "codemirror_mode": {
    "name": "ipython",
    "version": 2
   },
   "file_extension": ".py",
   "mimetype": "text/x-python",
   "name": "python",
   "nbconvert_exporter": "python",
   "pygments_lexer": "ipython2",
   "version": "2.7.6"
  }
 },
 "nbformat": 4,
 "nbformat_minor": 5
}
