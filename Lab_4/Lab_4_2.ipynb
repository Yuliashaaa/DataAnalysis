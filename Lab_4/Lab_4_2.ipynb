{
 "cells": [
  {
   "cell_type": "markdown",
   "source": [
    "# Lab 4: Advanced Neural Nets\n",
    "### Шевченко Юлія, ФІ-31мн"
   ],
   "metadata": {
    "collapsed": false
   },
   "id": "2c6cdd648ac3463a"
  },
  {
   "cell_type": "markdown",
   "source": [
    "### Lab Task:\n",
    "\n",
    "1. _**Завдання щодо генерації текстів або машинного перекладу (на вибір) на базі рекурентних мереж або трансформерів (на вибір)**_. Вирішити завдання щодо генерації текстів або машинного перекладу. Особливо вітаються україномовні моделі.  \n",
    "2. Провести експерименти з моделями бібліотеки HF Transformers за допомогою (наприклад) Pipeline модуля.\n",
    "3. _**Завдання щодо генерації або стилізації зображень (на вибір)**_. Вирішити завдання перенесення стилю або генерації зображень (архітектура за вашим вибором: GAN/DCGAN/VAE)."
   ],
   "metadata": {
    "collapsed": false
   },
   "id": "c276b8ef3319cd5a"
  },
  {
   "cell_type": "code",
   "outputs": [
    {
     "name": "stdout",
     "output_type": "stream",
     "text": [
      "WARNING:tensorflow:From D:\\Study\\Sem_9\\DA\\DataAnalysis\\venv\\Lib\\site-packages\\keras\\src\\losses.py:2976: The name tf.losses.sparse_softmax_cross_entropy is deprecated. Please use tf.compat.v1.losses.sparse_softmax_cross_entropy instead.\n"
     ]
    }
   ],
   "source": [
    "# All the imports for the task\n",
    "import tensorflow as tf\n",
    "from transformers import AutoTokenizer, TFAutoModelForSequenceClassification\n",
    "from transformers import pipeline"
   ],
   "metadata": {
    "collapsed": false,
    "ExecuteTime": {
     "end_time": "2024-01-12T23:44:18.313344200Z",
     "start_time": "2024-01-12T23:44:14.098027600Z"
    }
   },
   "id": "8e158a22147d77b6",
   "execution_count": 1
  },
  {
   "cell_type": "markdown",
   "source": [
    "### Task 2"
   ],
   "metadata": {
    "collapsed": false
   },
   "id": "e0680da5535c8c5f"
  },
  {
   "cell_type": "code",
   "outputs": [
    {
     "name": "stderr",
     "output_type": "stream",
     "text": [
      "No model was supplied, defaulted to distilbert-base-uncased-finetuned-sst-2-english and revision af0f99b (https://huggingface.co/distilbert-base-uncased-finetuned-sst-2-english).\n",
      "Using a pipeline without specifying a model name and revision in production is not recommended.\n"
     ]
    },
    {
     "name": "stdout",
     "output_type": "stream",
     "text": [
      "WARNING:tensorflow:From D:\\Study\\Sem_9\\DA\\DataAnalysis\\venv\\Lib\\site-packages\\keras\\src\\backend.py:873: The name tf.get_default_graph is deprecated. Please use tf.compat.v1.get_default_graph instead.\n"
     ]
    },
    {
     "name": "stderr",
     "output_type": "stream",
     "text": [
      "All PyTorch model weights were used when initializing TFDistilBertForSequenceClassification.\n",
      "\n",
      "All the weights of TFDistilBertForSequenceClassification were initialized from the PyTorch model.\n",
      "If your task is similar to the task the model of the checkpoint was trained on, you can already use TFDistilBertForSequenceClassification for predictions without further training.\n"
     ]
    }
   ],
   "source": [
    "classifier = pipeline('sentiment-analysis')"
   ],
   "metadata": {
    "collapsed": false,
    "ExecuteTime": {
     "end_time": "2024-01-12T23:44:20.242561600Z",
     "start_time": "2024-01-12T23:44:18.317320500Z"
    }
   },
   "id": "51c110d9579f3fcd",
   "execution_count": 2
  },
  {
   "cell_type": "code",
   "outputs": [
    {
     "data": {
      "text/plain": "[{'label': 'POSITIVE', 'score': 0.999783456325531}]"
     },
     "execution_count": 3,
     "metadata": {},
     "output_type": "execute_result"
    }
   ],
   "source": [
    "positive = 'Python -- great programming language'\n",
    "classifier(positive)"
   ],
   "metadata": {
    "collapsed": false,
    "ExecuteTime": {
     "end_time": "2024-01-12T23:44:20.347718700Z",
     "start_time": "2024-01-12T23:44:20.238572900Z"
    }
   },
   "id": "ae2757f31bd6d7b7",
   "execution_count": 3
  },
  {
   "cell_type": "code",
   "outputs": [
    {
     "data": {
      "text/plain": "[{'label': 'NEGATIVE', 'score': 0.9997938275337219}]"
     },
     "execution_count": 4,
     "metadata": {},
     "output_type": "execute_result"
    }
   ],
   "source": [
    "negative = 'It was not his best decision to do that'\n",
    "classifier(negative)"
   ],
   "metadata": {
    "collapsed": false,
    "ExecuteTime": {
     "end_time": "2024-01-12T23:44:20.445146500Z",
     "start_time": "2024-01-12T23:44:20.346746300Z"
    }
   },
   "id": "1a49c63a6ed5cb10",
   "execution_count": 4
  },
  {
   "cell_type": "code",
   "outputs": [],
   "source": [
    "exp_model = 'distilbert-base-uncased-finetuned-sst-2-english'"
   ],
   "metadata": {
    "collapsed": false,
    "ExecuteTime": {
     "end_time": "2024-01-12T23:44:20.451132900Z",
     "start_time": "2024-01-12T23:44:20.443821Z"
    }
   },
   "id": "9162b4aff6f96992",
   "execution_count": 5
  },
  {
   "cell_type": "code",
   "outputs": [
    {
     "name": "stderr",
     "output_type": "stream",
     "text": [
      "All PyTorch model weights were used when initializing TFDistilBertForSequenceClassification.\n",
      "\n",
      "All the weights of TFDistilBertForSequenceClassification were initialized from the PyTorch model.\n",
      "If your task is similar to the task the model of the checkpoint was trained on, you can already use TFDistilBertForSequenceClassification for predictions without further training.\n"
     ]
    }
   ],
   "source": [
    "model = TFAutoModelForSequenceClassification.from_pretrained(exp_model)\n",
    "tokenizer = AutoTokenizer.from_pretrained(exp_model)"
   ],
   "metadata": {
    "collapsed": false,
    "ExecuteTime": {
     "end_time": "2024-01-12T23:44:21.831652700Z",
     "start_time": "2024-01-12T23:44:20.448140600Z"
    }
   },
   "id": "871860b99143d106",
   "execution_count": 6
  },
  {
   "cell_type": "code",
   "outputs": [
    {
     "data": {
      "text/plain": "{'input_ids': [[101, 18750, 1011, 1011, 2307, 4730, 2653, 102], [101, 2009, 2001, 2025, 2010, 2190, 3247, 2000, 2079, 2008, 102]], 'attention_mask': [[1, 1, 1, 1, 1, 1, 1, 1], [1, 1, 1, 1, 1, 1, 1, 1, 1, 1, 1]]}"
     },
     "execution_count": 7,
     "metadata": {},
     "output_type": "execute_result"
    }
   ],
   "source": [
    "inputs = tokenizer([positive, negative])\n",
    "\n",
    "inputs"
   ],
   "metadata": {
    "collapsed": false,
    "ExecuteTime": {
     "end_time": "2024-01-12T23:44:21.839580100Z",
     "start_time": "2024-01-12T23:44:21.833647400Z"
    }
   },
   "id": "ebaf34e8bfa261ed",
   "execution_count": 7
  },
  {
   "cell_type": "code",
   "outputs": [
    {
     "data": {
      "text/plain": "{'input_ids': <tf.Tensor: shape=(2, 11), dtype=int32, numpy=\narray([[  101, 18750,  1011,  1011,  2307,  4730,  2653,   102,     0,\n            0,     0],\n       [  101,  2009,  2001,  2025,  2010,  2190,  3247,  2000,  2079,\n         2008,   102]])>, 'attention_mask': <tf.Tensor: shape=(2, 11), dtype=int32, numpy=\narray([[1, 1, 1, 1, 1, 1, 1, 1, 0, 0, 0],\n       [1, 1, 1, 1, 1, 1, 1, 1, 1, 1, 1]])>}"
     },
     "execution_count": 8,
     "metadata": {},
     "output_type": "execute_result"
    }
   ],
   "source": [
    "inputs_with_padding = tokenizer([positive, negative], padding = True, truncation = True, max_length = 256, return_tensors=\"tf\")\n",
    "\n",
    "inputs_with_padding"
   ],
   "metadata": {
    "collapsed": false,
    "ExecuteTime": {
     "end_time": "2024-01-12T23:44:21.848101500Z",
     "start_time": "2024-01-12T23:44:21.838607Z"
    }
   },
   "id": "915a8fd576d92178",
   "execution_count": 8
  },
  {
   "cell_type": "code",
   "outputs": [
    {
     "data": {
      "text/plain": "TFSequenceClassifierOutput(loss=None, logits=<tf.Tensor: shape=(2, 2), dtype=float32, numpy=\narray([[-4.066877 ,  4.370734 ],\n       [ 4.688553 , -3.7980757]], dtype=float32)>, hidden_states=None, attentions=None)"
     },
     "execution_count": 9,
     "metadata": {},
     "output_type": "execute_result"
    }
   ],
   "source": [
    "outputs = model(inputs_with_padding)\n",
    "\n",
    "outputs"
   ],
   "metadata": {
    "collapsed": false,
    "ExecuteTime": {
     "end_time": "2024-01-12T23:44:21.955553200Z",
     "start_time": "2024-01-12T23:44:21.844085600Z"
    }
   },
   "id": "b4b7e366d9808336",
   "execution_count": 9
  },
  {
   "cell_type": "code",
   "outputs": [
    {
     "data": {
      "text/plain": "<tf.Tensor: shape=(2, 2), dtype=float32, numpy=\narray([[2.1652009e-04, 9.9978346e-01],\n       [9.9979383e-01, 2.0616478e-04]], dtype=float32)>"
     },
     "execution_count": 10,
     "metadata": {},
     "output_type": "execute_result"
    }
   ],
   "source": [
    "predictions = tf.nn.softmax(outputs[0], axis=-1)\n",
    "\n",
    "predictions"
   ],
   "metadata": {
    "collapsed": false,
    "ExecuteTime": {
     "end_time": "2024-01-12T23:44:21.963039600Z",
     "start_time": "2024-01-12T23:44:21.953991Z"
    }
   },
   "id": "ea87d87aa86956ed",
   "execution_count": 10
  }
 ],
 "metadata": {
  "kernelspec": {
   "display_name": "Python 3",
   "language": "python",
   "name": "python3"
  },
  "language_info": {
   "codemirror_mode": {
    "name": "ipython",
    "version": 2
   },
   "file_extension": ".py",
   "mimetype": "text/x-python",
   "name": "python",
   "nbconvert_exporter": "python",
   "pygments_lexer": "ipython2",
   "version": "2.7.6"
  }
 },
 "nbformat": 4,
 "nbformat_minor": 5
}
