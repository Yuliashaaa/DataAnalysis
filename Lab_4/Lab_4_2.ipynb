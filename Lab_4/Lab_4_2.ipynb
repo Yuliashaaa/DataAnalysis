{
 "cells": [
  {
   "cell_type": "markdown",
   "source": [
    "# Lab 4: Advanced Neural Nets\n",
    "### Шевченко Юлія, ФІ-31мн"
   ],
   "metadata": {
    "collapsed": false
   },
   "id": "2c6cdd648ac3463a"
  },
  {
   "cell_type": "markdown",
   "source": [
    "### Lab Task:\n",
    "\n",
    "1. _**Завдання щодо генерації текстів або машинного перекладу (на вибір) на базі рекурентних мереж або трансформерів (на вибір)**_. Вирішити завдання щодо генерації текстів або машинного перекладу. Особливо вітаються україномовні моделі.  \n",
    "2. Провести експерименти з моделями бібліотеки HF Transformers за допомогою (наприклад) Pipeline модуля.\n",
    "3. _**Завдання щодо генерації або стилізації зображень (на вибір)**_. Вирішити завдання перенесення стилю або генерації зображень (архітектура за вашим вибором: GAN/DCGAN/VAE)."
   ],
   "metadata": {
    "collapsed": false
   },
   "id": "c276b8ef3319cd5a"
  },
  {
   "cell_type": "code",
   "outputs": [],
   "source": [
    "# All the imports for the task\n",
    "import io\n",
    "import os\n",
    "import random\n",
    "\n",
    "import keras\n",
    "import numpy as np\n",
    "from keras import layers"
   ],
   "metadata": {
    "collapsed": false
   },
   "id": "8e158a22147d77b6"
  },
  {
   "cell_type": "markdown",
   "source": [
    "### Task 2"
   ],
   "metadata": {
    "collapsed": false
   },
   "id": "e0680da5535c8c5f"
  }
 ],
 "metadata": {
  "kernelspec": {
   "display_name": "Python 3",
   "language": "python",
   "name": "python3"
  },
  "language_info": {
   "codemirror_mode": {
    "name": "ipython",
    "version": 2
   },
   "file_extension": ".py",
   "mimetype": "text/x-python",
   "name": "python",
   "nbconvert_exporter": "python",
   "pygments_lexer": "ipython2",
   "version": "2.7.6"
  }
 },
 "nbformat": 4,
 "nbformat_minor": 5
}
