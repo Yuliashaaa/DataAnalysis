{
 "cells": [
  {
   "cell_type": "markdown",
   "source": [
    "# Lab 3: Знайомство з нейромережами\n",
    "### Шевченко Юлія, ФІ-31мн"
   ],
   "metadata": {
    "collapsed": false
   },
   "id": "9ef7ff50bd00db35"
  },
  {
   "cell_type": "markdown",
   "source": [
    "### Lab Task:\n",
    "\n",
    "1. _**Повнозв'язані нейронні мережі**_. Вирішити завдання класифікації даних, з якими працювали в лабораторній №1 за допомогою повнозв’язаної нейромережі прямого поширення (fully connected feed-forward network). Результати порівняти з одержаними раніше.\n",
    "2. _**Згорткові нейронні мережі**_. Вирішити завдання класифікації зображень за допомогою згорткової (convolutional) нейромережі (якщо в обраному датасеті класів забагато, достатньо залишити 3-5).\n",
    "3. _**Рекурентні нейронні мережі**_. Вирішити задачу класифікації текстів (з якими працювали в лабораторній №2) за допомогою рекурентної нейромережі. Результати порівняти з одержаними раніше. "
   ],
   "metadata": {
    "collapsed": false
   },
   "id": "eacfb851abd70dcf"
  },
  {
   "cell_type": "code",
   "outputs": [
    {
     "name": "stdout",
     "output_type": "stream",
     "text": [
      "WARNING:tensorflow:From D:\\Study\\Sem_9\\DA\\DataAnalysis\\venv\\Lib\\site-packages\\keras\\src\\losses.py:2976: The name tf.losses.sparse_softmax_cross_entropy is deprecated. Please use tf.compat.v1.losses.sparse_softmax_cross_entropy instead.\n"
     ]
    }
   ],
   "source": [
    "# All the imports for the task\n",
    "import os\n",
    "import re\n",
    "import string\n",
    "\n",
    "import matplotlib.pyplot as plt\n",
    "import numpy as np\n",
    "import pandas as pd\n",
    "from keras.src.preprocessing.image import ImageDataGenerator\n",
    "from nltk.corpus import stopwords\n",
    "from nltk.stem import PorterStemmer\n",
    "from nltk.tokenize import word_tokenize\n",
    "from sklearn.model_selection import train_test_split\n",
    "from sklearn.preprocessing import StandardScaler\n",
    "from tensorflow.keras.callbacks import EarlyStopping\n",
    "from tensorflow.keras.layers import Conv2D, MaxPooling2D, Flatten, Dropout\n",
    "from tensorflow.keras.layers import Embedding, Dense, LSTM, Bidirectional\n",
    "from tensorflow.keras.models import Sequential\n",
    "from tensorflow.keras.optimizers import Adam\n",
    "from tensorflow.keras.preprocessing import image\n",
    "from tensorflow.keras.preprocessing.sequence import pad_sequences\n",
    "from tensorflow.keras.preprocessing.text import Tokenizer"
   ],
   "metadata": {
    "collapsed": false,
    "ExecuteTime": {
     "end_time": "2024-01-11T20:25:22.314252900Z",
     "start_time": "2024-01-11T20:25:17.410421400Z"
    }
   },
   "id": "a7449c066a55730b",
   "execution_count": 1
  },
  {
   "cell_type": "markdown",
   "source": [
    "### Fully connected feed-forward network"
   ],
   "metadata": {
    "collapsed": false
   },
   "id": "5a8257e7fd368cbb"
  },
  {
   "cell_type": "code",
   "outputs": [],
   "source": [
    "# Loading dataset from csv\n",
    "spotify_data = pd.read_csv('../Lab_3/song_data.csv')"
   ],
   "metadata": {
    "collapsed": false,
    "ExecuteTime": {
     "end_time": "2024-01-11T20:25:22.360054300Z",
     "start_time": "2024-01-11T20:25:22.316247900Z"
    }
   },
   "id": "59b092d1f54f4b6d",
   "execution_count": 2
  },
  {
   "cell_type": "code",
   "outputs": [
    {
     "data": {
      "text/plain": "                    song_name  song_popularity  song_duration_ms  \\\n0  Boulevard of Broken Dreams               73            262333   \n1                  In The End               66            216933   \n2           Seven Nation Army               76            231733   \n3                  By The Way               74            216933   \n4           How You Remind Me               56            223826   \n\n   acousticness  danceability  energy  instrumentalness  key  liveness  \\\n0      0.005520         0.496   0.682          0.000029    8    0.0589   \n1      0.010300         0.542   0.853          0.000000    3    0.1080   \n2      0.008170         0.737   0.463          0.447000    0    0.2550   \n3      0.026400         0.451   0.970          0.003550    0    0.1020   \n4      0.000954         0.447   0.766          0.000000   10    0.1130   \n\n   loudness  audio_mode  speechiness    tempo  time_signature  audio_valence  \n0    -4.095           1       0.0294  167.060               4          0.474  \n1    -6.407           0       0.0498  105.256               4          0.370  \n2    -7.828           1       0.0792  123.881               4          0.324  \n3    -4.938           1       0.1070  122.444               4          0.198  \n4    -5.065           1       0.0313  172.011               4          0.574  ",
      "text/html": "<div>\n<style scoped>\n    .dataframe tbody tr th:only-of-type {\n        vertical-align: middle;\n    }\n\n    .dataframe tbody tr th {\n        vertical-align: top;\n    }\n\n    .dataframe thead th {\n        text-align: right;\n    }\n</style>\n<table border=\"1\" class=\"dataframe\">\n  <thead>\n    <tr style=\"text-align: right;\">\n      <th></th>\n      <th>song_name</th>\n      <th>song_popularity</th>\n      <th>song_duration_ms</th>\n      <th>acousticness</th>\n      <th>danceability</th>\n      <th>energy</th>\n      <th>instrumentalness</th>\n      <th>key</th>\n      <th>liveness</th>\n      <th>loudness</th>\n      <th>audio_mode</th>\n      <th>speechiness</th>\n      <th>tempo</th>\n      <th>time_signature</th>\n      <th>audio_valence</th>\n    </tr>\n  </thead>\n  <tbody>\n    <tr>\n      <th>0</th>\n      <td>Boulevard of Broken Dreams</td>\n      <td>73</td>\n      <td>262333</td>\n      <td>0.005520</td>\n      <td>0.496</td>\n      <td>0.682</td>\n      <td>0.000029</td>\n      <td>8</td>\n      <td>0.0589</td>\n      <td>-4.095</td>\n      <td>1</td>\n      <td>0.0294</td>\n      <td>167.060</td>\n      <td>4</td>\n      <td>0.474</td>\n    </tr>\n    <tr>\n      <th>1</th>\n      <td>In The End</td>\n      <td>66</td>\n      <td>216933</td>\n      <td>0.010300</td>\n      <td>0.542</td>\n      <td>0.853</td>\n      <td>0.000000</td>\n      <td>3</td>\n      <td>0.1080</td>\n      <td>-6.407</td>\n      <td>0</td>\n      <td>0.0498</td>\n      <td>105.256</td>\n      <td>4</td>\n      <td>0.370</td>\n    </tr>\n    <tr>\n      <th>2</th>\n      <td>Seven Nation Army</td>\n      <td>76</td>\n      <td>231733</td>\n      <td>0.008170</td>\n      <td>0.737</td>\n      <td>0.463</td>\n      <td>0.447000</td>\n      <td>0</td>\n      <td>0.2550</td>\n      <td>-7.828</td>\n      <td>1</td>\n      <td>0.0792</td>\n      <td>123.881</td>\n      <td>4</td>\n      <td>0.324</td>\n    </tr>\n    <tr>\n      <th>3</th>\n      <td>By The Way</td>\n      <td>74</td>\n      <td>216933</td>\n      <td>0.026400</td>\n      <td>0.451</td>\n      <td>0.970</td>\n      <td>0.003550</td>\n      <td>0</td>\n      <td>0.1020</td>\n      <td>-4.938</td>\n      <td>1</td>\n      <td>0.1070</td>\n      <td>122.444</td>\n      <td>4</td>\n      <td>0.198</td>\n    </tr>\n    <tr>\n      <th>4</th>\n      <td>How You Remind Me</td>\n      <td>56</td>\n      <td>223826</td>\n      <td>0.000954</td>\n      <td>0.447</td>\n      <td>0.766</td>\n      <td>0.000000</td>\n      <td>10</td>\n      <td>0.1130</td>\n      <td>-5.065</td>\n      <td>1</td>\n      <td>0.0313</td>\n      <td>172.011</td>\n      <td>4</td>\n      <td>0.574</td>\n    </tr>\n  </tbody>\n</table>\n</div>"
     },
     "execution_count": 3,
     "metadata": {},
     "output_type": "execute_result"
    }
   ],
   "source": [
    "# Showing the dataset\n",
    "spotify_data.head()"
   ],
   "metadata": {
    "collapsed": false,
    "ExecuteTime": {
     "end_time": "2024-01-11T20:25:22.369882400Z",
     "start_time": "2024-01-11T20:25:22.354070200Z"
    }
   },
   "id": "9f84dc5282013b39",
   "execution_count": 3
  },
  {
   "cell_type": "code",
   "outputs": [
    {
     "name": "stdout",
     "output_type": "stream",
     "text": [
      "The dataset contains such columns: Index(['song_name', 'song_popularity', 'song_duration_ms', 'acousticness',\n",
      "       'danceability', 'energy', 'instrumentalness', 'key', 'liveness',\n",
      "       'loudness', 'audio_mode', 'speechiness', 'tempo', 'time_signature',\n",
      "       'audio_valence'],\n",
      "      dtype='object')\n"
     ]
    }
   ],
   "source": [
    "# Showing the dataset columns\n",
    "print('The dataset contains such columns: {}'.format(spotify_data.columns))"
   ],
   "metadata": {
    "collapsed": false,
    "ExecuteTime": {
     "end_time": "2024-01-11T20:25:22.372876500Z",
     "start_time": "2024-01-11T20:25:22.369378800Z"
    }
   },
   "id": "ba542336a8819edc",
   "execution_count": 4
  },
  {
   "cell_type": "code",
   "outputs": [],
   "source": [
    "# Some columns have 'int64' type, so we convert them to float\n",
    "spotify_data.song_duration_ms = spotify_data.song_duration_ms.astype(float)\n",
    "spotify_data.audio_mode = spotify_data.audio_mode.astype(float)\n",
    "spotify_data.time_signature = spotify_data.time_signature.astype(float)"
   ],
   "metadata": {
    "collapsed": false,
    "ExecuteTime": {
     "end_time": "2024-01-11T20:25:22.397262500Z",
     "start_time": "2024-01-11T20:25:22.372876500Z"
    }
   },
   "id": "a27f8abb941cf4d2",
   "execution_count": 5
  },
  {
   "cell_type": "code",
   "outputs": [
    {
     "data": {
      "text/plain": "popularity\n0    14384\n1     4451\nName: count, dtype: int64"
     },
     "execution_count": 6,
     "metadata": {},
     "output_type": "execute_result"
    }
   ],
   "source": [
    "# Considering song is popular if song_popularity value is >= 70\n",
    "spotify_data['popularity'] = [1 if value >= 70 else 0 for value in spotify_data.song_popularity]\n",
    "spotify_data.popularity.value_counts()"
   ],
   "metadata": {
    "collapsed": false,
    "ExecuteTime": {
     "end_time": "2024-01-11T20:25:22.398260Z",
     "start_time": "2024-01-11T20:25:22.377206300Z"
    }
   },
   "id": "6e216482cae47d31",
   "execution_count": 6
  },
  {
   "cell_type": "code",
   "outputs": [
    {
     "data": {
      "text/plain": "                  song_popularity  song_duration_ms  acousticness  \\\nsong_popularity          1.000000         -0.018899     -0.065181   \nsong_duration_ms        -0.018899          1.000000     -0.097882   \nacousticness            -0.065181         -0.097882      1.000000   \ndanceability             0.104290         -0.104985     -0.182500   \nenergy                   0.001365          0.092688     -0.662639   \ninstrumentalness        -0.130907         -0.015188      0.173098   \nkey                     -0.013160         -0.004615     -0.002025   \nliveness                -0.038937          0.016086     -0.082537   \nloudness                 0.099442          0.016469     -0.557744   \naudio_mode              -0.004969         -0.026328      0.064100   \nspeechiness              0.021479         -0.083447     -0.093574   \ntempo                   -0.022672          0.012791     -0.136421   \ntime_signature           0.034983          0.000264     -0.157177   \naudio_valence           -0.052895         -0.063421     -0.121670   \npopularity               0.660385          0.005092     -0.101694   \n\n                  danceability    energy  instrumentalness       key  \\\nsong_popularity       0.104290  0.001365         -0.130907 -0.013160   \nsong_duration_ms     -0.104985  0.092688         -0.015188 -0.004615   \nacousticness         -0.182500 -0.662639          0.173098 -0.002025   \ndanceability          1.000000  0.044373         -0.130483  0.007723   \nenergy                0.044373  1.000000         -0.205914  0.020416   \ninstrumentalness     -0.130483 -0.205914          1.000000 -0.009463   \nkey                   0.007723  0.020416         -0.009463  1.000000   \nliveness             -0.090694  0.167143         -0.032887 -0.008193   \nloudness              0.177639  0.755516         -0.390248  0.010452   \naudio_mode           -0.106539 -0.051605         -0.014983 -0.169848   \nspeechiness           0.213728  0.062053         -0.081138  0.033639   \ntempo                -0.121286  0.162448         -0.036934  0.003239   \ntime_signature        0.136391  0.146265         -0.069181 -0.008282   \naudio_valence         0.332014  0.316742         -0.178570  0.025356   \npopularity            0.117811  0.042833         -0.152954 -0.021929   \n\n                  liveness  loudness  audio_mode  speechiness     tempo  \\\nsong_popularity  -0.038937  0.099442   -0.004969     0.021479 -0.022672   \nsong_duration_ms  0.016086  0.016469   -0.026328    -0.083447  0.012791   \nacousticness     -0.082537 -0.557744    0.064100    -0.093574 -0.136421   \ndanceability     -0.090694  0.177639   -0.106539     0.213728 -0.121286   \nenergy            0.167143  0.755516   -0.051605     0.062053  0.162448   \ninstrumentalness -0.032887 -0.390248   -0.014983    -0.081138 -0.036934   \nkey              -0.008193  0.010452   -0.169848     0.033639  0.003239   \nliveness          1.000000  0.102450   -0.001035     0.090845  0.031876   \nloudness          0.102450  1.000000   -0.058506     0.078164  0.129938   \naudio_mode       -0.001035 -0.058506    1.000000    -0.111627  0.020448   \nspeechiness       0.090845  0.078164   -0.111627     1.000000  0.071685   \ntempo             0.031876  0.129938    0.020448     0.071685  1.000000   \ntime_signature    0.013289  0.119241   -0.024042     0.057162  0.003978   \naudio_valence     0.013789  0.199696   -0.004558     0.011046  0.037667   \npopularity       -0.025308  0.145254   -0.019096     0.030528 -0.005206   \n\n                  time_signature  audio_valence  popularity  \nsong_popularity         0.034983      -0.052895    0.660385  \nsong_duration_ms        0.000264      -0.063421    0.005092  \nacousticness           -0.157177      -0.121670   -0.101694  \ndanceability            0.136391       0.332014    0.117811  \nenergy                  0.146265       0.316742    0.042833  \ninstrumentalness       -0.069181      -0.178570   -0.152954  \nkey                    -0.008282       0.025356   -0.021929  \nliveness                0.013289       0.013789   -0.025308  \nloudness                0.119241       0.199696    0.145254  \naudio_mode             -0.024042      -0.004558   -0.019096  \nspeechiness             0.057162       0.011046    0.030528  \ntempo                   0.003978       0.037667   -0.005206  \ntime_signature          1.000000       0.094670    0.029709  \naudio_valence           0.094670       1.000000   -0.018305  \npopularity              0.029709      -0.018305    1.000000  ",
      "text/html": "<div>\n<style scoped>\n    .dataframe tbody tr th:only-of-type {\n        vertical-align: middle;\n    }\n\n    .dataframe tbody tr th {\n        vertical-align: top;\n    }\n\n    .dataframe thead th {\n        text-align: right;\n    }\n</style>\n<table border=\"1\" class=\"dataframe\">\n  <thead>\n    <tr style=\"text-align: right;\">\n      <th></th>\n      <th>song_popularity</th>\n      <th>song_duration_ms</th>\n      <th>acousticness</th>\n      <th>danceability</th>\n      <th>energy</th>\n      <th>instrumentalness</th>\n      <th>key</th>\n      <th>liveness</th>\n      <th>loudness</th>\n      <th>audio_mode</th>\n      <th>speechiness</th>\n      <th>tempo</th>\n      <th>time_signature</th>\n      <th>audio_valence</th>\n      <th>popularity</th>\n    </tr>\n  </thead>\n  <tbody>\n    <tr>\n      <th>song_popularity</th>\n      <td>1.000000</td>\n      <td>-0.018899</td>\n      <td>-0.065181</td>\n      <td>0.104290</td>\n      <td>0.001365</td>\n      <td>-0.130907</td>\n      <td>-0.013160</td>\n      <td>-0.038937</td>\n      <td>0.099442</td>\n      <td>-0.004969</td>\n      <td>0.021479</td>\n      <td>-0.022672</td>\n      <td>0.034983</td>\n      <td>-0.052895</td>\n      <td>0.660385</td>\n    </tr>\n    <tr>\n      <th>song_duration_ms</th>\n      <td>-0.018899</td>\n      <td>1.000000</td>\n      <td>-0.097882</td>\n      <td>-0.104985</td>\n      <td>0.092688</td>\n      <td>-0.015188</td>\n      <td>-0.004615</td>\n      <td>0.016086</td>\n      <td>0.016469</td>\n      <td>-0.026328</td>\n      <td>-0.083447</td>\n      <td>0.012791</td>\n      <td>0.000264</td>\n      <td>-0.063421</td>\n      <td>0.005092</td>\n    </tr>\n    <tr>\n      <th>acousticness</th>\n      <td>-0.065181</td>\n      <td>-0.097882</td>\n      <td>1.000000</td>\n      <td>-0.182500</td>\n      <td>-0.662639</td>\n      <td>0.173098</td>\n      <td>-0.002025</td>\n      <td>-0.082537</td>\n      <td>-0.557744</td>\n      <td>0.064100</td>\n      <td>-0.093574</td>\n      <td>-0.136421</td>\n      <td>-0.157177</td>\n      <td>-0.121670</td>\n      <td>-0.101694</td>\n    </tr>\n    <tr>\n      <th>danceability</th>\n      <td>0.104290</td>\n      <td>-0.104985</td>\n      <td>-0.182500</td>\n      <td>1.000000</td>\n      <td>0.044373</td>\n      <td>-0.130483</td>\n      <td>0.007723</td>\n      <td>-0.090694</td>\n      <td>0.177639</td>\n      <td>-0.106539</td>\n      <td>0.213728</td>\n      <td>-0.121286</td>\n      <td>0.136391</td>\n      <td>0.332014</td>\n      <td>0.117811</td>\n    </tr>\n    <tr>\n      <th>energy</th>\n      <td>0.001365</td>\n      <td>0.092688</td>\n      <td>-0.662639</td>\n      <td>0.044373</td>\n      <td>1.000000</td>\n      <td>-0.205914</td>\n      <td>0.020416</td>\n      <td>0.167143</td>\n      <td>0.755516</td>\n      <td>-0.051605</td>\n      <td>0.062053</td>\n      <td>0.162448</td>\n      <td>0.146265</td>\n      <td>0.316742</td>\n      <td>0.042833</td>\n    </tr>\n    <tr>\n      <th>instrumentalness</th>\n      <td>-0.130907</td>\n      <td>-0.015188</td>\n      <td>0.173098</td>\n      <td>-0.130483</td>\n      <td>-0.205914</td>\n      <td>1.000000</td>\n      <td>-0.009463</td>\n      <td>-0.032887</td>\n      <td>-0.390248</td>\n      <td>-0.014983</td>\n      <td>-0.081138</td>\n      <td>-0.036934</td>\n      <td>-0.069181</td>\n      <td>-0.178570</td>\n      <td>-0.152954</td>\n    </tr>\n    <tr>\n      <th>key</th>\n      <td>-0.013160</td>\n      <td>-0.004615</td>\n      <td>-0.002025</td>\n      <td>0.007723</td>\n      <td>0.020416</td>\n      <td>-0.009463</td>\n      <td>1.000000</td>\n      <td>-0.008193</td>\n      <td>0.010452</td>\n      <td>-0.169848</td>\n      <td>0.033639</td>\n      <td>0.003239</td>\n      <td>-0.008282</td>\n      <td>0.025356</td>\n      <td>-0.021929</td>\n    </tr>\n    <tr>\n      <th>liveness</th>\n      <td>-0.038937</td>\n      <td>0.016086</td>\n      <td>-0.082537</td>\n      <td>-0.090694</td>\n      <td>0.167143</td>\n      <td>-0.032887</td>\n      <td>-0.008193</td>\n      <td>1.000000</td>\n      <td>0.102450</td>\n      <td>-0.001035</td>\n      <td>0.090845</td>\n      <td>0.031876</td>\n      <td>0.013289</td>\n      <td>0.013789</td>\n      <td>-0.025308</td>\n    </tr>\n    <tr>\n      <th>loudness</th>\n      <td>0.099442</td>\n      <td>0.016469</td>\n      <td>-0.557744</td>\n      <td>0.177639</td>\n      <td>0.755516</td>\n      <td>-0.390248</td>\n      <td>0.010452</td>\n      <td>0.102450</td>\n      <td>1.000000</td>\n      <td>-0.058506</td>\n      <td>0.078164</td>\n      <td>0.129938</td>\n      <td>0.119241</td>\n      <td>0.199696</td>\n      <td>0.145254</td>\n    </tr>\n    <tr>\n      <th>audio_mode</th>\n      <td>-0.004969</td>\n      <td>-0.026328</td>\n      <td>0.064100</td>\n      <td>-0.106539</td>\n      <td>-0.051605</td>\n      <td>-0.014983</td>\n      <td>-0.169848</td>\n      <td>-0.001035</td>\n      <td>-0.058506</td>\n      <td>1.000000</td>\n      <td>-0.111627</td>\n      <td>0.020448</td>\n      <td>-0.024042</td>\n      <td>-0.004558</td>\n      <td>-0.019096</td>\n    </tr>\n    <tr>\n      <th>speechiness</th>\n      <td>0.021479</td>\n      <td>-0.083447</td>\n      <td>-0.093574</td>\n      <td>0.213728</td>\n      <td>0.062053</td>\n      <td>-0.081138</td>\n      <td>0.033639</td>\n      <td>0.090845</td>\n      <td>0.078164</td>\n      <td>-0.111627</td>\n      <td>1.000000</td>\n      <td>0.071685</td>\n      <td>0.057162</td>\n      <td>0.011046</td>\n      <td>0.030528</td>\n    </tr>\n    <tr>\n      <th>tempo</th>\n      <td>-0.022672</td>\n      <td>0.012791</td>\n      <td>-0.136421</td>\n      <td>-0.121286</td>\n      <td>0.162448</td>\n      <td>-0.036934</td>\n      <td>0.003239</td>\n      <td>0.031876</td>\n      <td>0.129938</td>\n      <td>0.020448</td>\n      <td>0.071685</td>\n      <td>1.000000</td>\n      <td>0.003978</td>\n      <td>0.037667</td>\n      <td>-0.005206</td>\n    </tr>\n    <tr>\n      <th>time_signature</th>\n      <td>0.034983</td>\n      <td>0.000264</td>\n      <td>-0.157177</td>\n      <td>0.136391</td>\n      <td>0.146265</td>\n      <td>-0.069181</td>\n      <td>-0.008282</td>\n      <td>0.013289</td>\n      <td>0.119241</td>\n      <td>-0.024042</td>\n      <td>0.057162</td>\n      <td>0.003978</td>\n      <td>1.000000</td>\n      <td>0.094670</td>\n      <td>0.029709</td>\n    </tr>\n    <tr>\n      <th>audio_valence</th>\n      <td>-0.052895</td>\n      <td>-0.063421</td>\n      <td>-0.121670</td>\n      <td>0.332014</td>\n      <td>0.316742</td>\n      <td>-0.178570</td>\n      <td>0.025356</td>\n      <td>0.013789</td>\n      <td>0.199696</td>\n      <td>-0.004558</td>\n      <td>0.011046</td>\n      <td>0.037667</td>\n      <td>0.094670</td>\n      <td>1.000000</td>\n      <td>-0.018305</td>\n    </tr>\n    <tr>\n      <th>popularity</th>\n      <td>0.660385</td>\n      <td>0.005092</td>\n      <td>-0.101694</td>\n      <td>0.117811</td>\n      <td>0.042833</td>\n      <td>-0.152954</td>\n      <td>-0.021929</td>\n      <td>-0.025308</td>\n      <td>0.145254</td>\n      <td>-0.019096</td>\n      <td>0.030528</td>\n      <td>-0.005206</td>\n      <td>0.029709</td>\n      <td>-0.018305</td>\n      <td>1.000000</td>\n    </tr>\n  </tbody>\n</table>\n</div>"
     },
     "execution_count": 7,
     "metadata": {},
     "output_type": "execute_result"
    }
   ],
   "source": [
    "# Choosing numeric data and describing correlation\n",
    "spotify_data_numeric = spotify_data.select_dtypes(include = ['float64', 'int64'])\n",
    "data_correlation = spotify_data_numeric.corr()\n",
    "data_correlation"
   ],
   "metadata": {
    "collapsed": false,
    "ExecuteTime": {
     "end_time": "2024-01-11T20:25:22.477354Z",
     "start_time": "2024-01-11T20:25:22.387289400Z"
    }
   },
   "id": "3f7e7668cdadf4f0",
   "execution_count": 7
  },
  {
   "cell_type": "code",
   "outputs": [],
   "source": [
    "# Splitting data to train and test with 20% test data size\n",
    "X = spotify_data_numeric.drop(['popularity'], axis=1)\n",
    "y = spotify_data_numeric['popularity']\n",
    "\n",
    "X_train, X_test, y_train, y_test = train_test_split(X, y, test_size=0.2)"
   ],
   "metadata": {
    "collapsed": false,
    "ExecuteTime": {
     "end_time": "2024-01-11T20:25:22.477354Z",
     "start_time": "2024-01-11T20:25:22.411106100Z"
    }
   },
   "id": "8842465961ff47ef",
   "execution_count": 8
  },
  {
   "cell_type": "code",
   "outputs": [],
   "source": [
    "# Standardize the variables\n",
    "scaler = StandardScaler()\n",
    "scaler.fit(X_train)\n",
    "scaled_X_train = scaler.transform(X_train)\n",
    "scaled_X_test = scaler.transform(X_test)"
   ],
   "metadata": {
    "collapsed": false,
    "ExecuteTime": {
     "end_time": "2024-01-11T20:25:22.478351300Z",
     "start_time": "2024-01-11T20:25:22.418066400Z"
    }
   },
   "id": "e77bf3c6b35040f5",
   "execution_count": 9
  },
  {
   "cell_type": "code",
   "outputs": [
    {
     "name": "stdout",
     "output_type": "stream",
     "text": [
      "WARNING:tensorflow:From D:\\Study\\Sem_9\\DA\\DataAnalysis\\venv\\Lib\\site-packages\\keras\\src\\backend.py:873: The name tf.get_default_graph is deprecated. Please use tf.compat.v1.get_default_graph instead.\n",
      "WARNING:tensorflow:From D:\\Study\\Sem_9\\DA\\DataAnalysis\\venv\\Lib\\site-packages\\keras\\src\\optimizers\\__init__.py:309: The name tf.train.Optimizer is deprecated. Please use tf.compat.v1.train.Optimizer instead.\n"
     ]
    }
   ],
   "source": [
    "# Creating model\n",
    "model = Sequential()\n",
    "model.add(Dense(64, input_dim=scaled_X_train.shape[1], activation='relu'))  # First connected layer\n",
    "model.add(Dense(32, activation='relu'))  # Second connected layer\n",
    "model.add(Dense(1, activation='sigmoid'))  # Sigmoid output layer for binary classification\n",
    "\n",
    "# Compile model\n",
    "model.compile(loss='binary_crossentropy', optimizer='adam', metrics=['accuracy'])"
   ],
   "metadata": {
    "collapsed": false,
    "ExecuteTime": {
     "end_time": "2024-01-11T20:25:22.871823700Z",
     "start_time": "2024-01-11T20:25:22.429482500Z"
    }
   },
   "id": "508f02038e4740c2",
   "execution_count": 10
  },
  {
   "cell_type": "code",
   "outputs": [
    {
     "name": "stdout",
     "output_type": "stream",
     "text": [
      "Epoch 1/100\n",
      "WARNING:tensorflow:From D:\\Study\\Sem_9\\DA\\DataAnalysis\\venv\\Lib\\site-packages\\keras\\src\\utils\\tf_utils.py:492: The name tf.ragged.RaggedTensorValue is deprecated. Please use tf.compat.v1.ragged.RaggedTensorValue instead.\n",
      "WARNING:tensorflow:From D:\\Study\\Sem_9\\DA\\DataAnalysis\\venv\\Lib\\site-packages\\keras\\src\\engine\\base_layer_utils.py:384: The name tf.executing_eagerly_outside_functions is deprecated. Please use tf.compat.v1.executing_eagerly_outside_functions instead.\n",
      "471/471 [==============================] - 1s 2ms/step - loss: 0.1684 - accuracy: 0.9352 - val_loss: 0.0756 - val_accuracy: 0.9721\n",
      "Epoch 2/100\n",
      "471/471 [==============================] - 1s 1ms/step - loss: 0.0559 - accuracy: 0.9786 - val_loss: 0.0536 - val_accuracy: 0.9796\n",
      "Epoch 3/100\n",
      "471/471 [==============================] - 1s 1ms/step - loss: 0.0389 - accuracy: 0.9853 - val_loss: 0.0386 - val_accuracy: 0.9854\n",
      "Epoch 4/100\n",
      "471/471 [==============================] - 1s 1ms/step - loss: 0.0301 - accuracy: 0.9891 - val_loss: 0.0326 - val_accuracy: 0.9881\n",
      "Epoch 5/100\n",
      "471/471 [==============================] - 1s 1ms/step - loss: 0.0237 - accuracy: 0.9917 - val_loss: 0.0333 - val_accuracy: 0.9873\n",
      "Epoch 6/100\n",
      "471/471 [==============================] - 1s 1ms/step - loss: 0.0198 - accuracy: 0.9934 - val_loss: 0.0283 - val_accuracy: 0.9902\n",
      "Epoch 7/100\n",
      "471/471 [==============================] - 1s 1ms/step - loss: 0.0167 - accuracy: 0.9940 - val_loss: 0.0218 - val_accuracy: 0.9912\n",
      "Epoch 8/100\n",
      "471/471 [==============================] - 1s 1ms/step - loss: 0.0147 - accuracy: 0.9946 - val_loss: 0.0210 - val_accuracy: 0.9920\n",
      "Epoch 9/100\n",
      "471/471 [==============================] - 1s 1ms/step - loss: 0.0130 - accuracy: 0.9959 - val_loss: 0.0211 - val_accuracy: 0.9910\n",
      "Epoch 10/100\n",
      "471/471 [==============================] - 1s 1ms/step - loss: 0.0115 - accuracy: 0.9966 - val_loss: 0.0174 - val_accuracy: 0.9944\n",
      "Epoch 11/100\n",
      "471/471 [==============================] - 1s 1ms/step - loss: 0.0099 - accuracy: 0.9969 - val_loss: 0.0247 - val_accuracy: 0.9899\n",
      "Epoch 12/100\n",
      "471/471 [==============================] - 1s 1ms/step - loss: 0.0093 - accuracy: 0.9965 - val_loss: 0.0197 - val_accuracy: 0.9934\n",
      "Epoch 13/100\n",
      "471/471 [==============================] - 1s 1ms/step - loss: 0.0070 - accuracy: 0.9986 - val_loss: 0.0184 - val_accuracy: 0.9955\n",
      "Epoch 14/100\n",
      "471/471 [==============================] - 1s 1ms/step - loss: 0.0120 - accuracy: 0.9958 - val_loss: 0.0167 - val_accuracy: 0.9947\n",
      "Epoch 15/100\n",
      "471/471 [==============================] - 1s 1ms/step - loss: 0.0078 - accuracy: 0.9977 - val_loss: 0.0140 - val_accuracy: 0.9952\n",
      "Epoch 16/100\n",
      "471/471 [==============================] - 1s 1ms/step - loss: 0.0042 - accuracy: 0.9995 - val_loss: 0.0147 - val_accuracy: 0.9944\n",
      "Epoch 17/100\n",
      "471/471 [==============================] - 1s 1ms/step - loss: 0.0073 - accuracy: 0.9977 - val_loss: 0.0167 - val_accuracy: 0.9944\n",
      "Epoch 18/100\n",
      "431/471 [==========================>...] - ETA: 0s - loss: 0.0038 - accuracy: 0.9993Restoring model weights from the end of the best epoch: 13.\n",
      "471/471 [==============================] - 1s 1ms/step - loss: 0.0038 - accuracy: 0.9993 - val_loss: 0.0164 - val_accuracy: 0.9939\n",
      "Epoch 18: early stopping\n"
     ]
    },
    {
     "data": {
      "text/plain": "<keras.src.callbacks.History at 0x218e90963d0>"
     },
     "execution_count": 11,
     "metadata": {},
     "output_type": "execute_result"
    }
   ],
   "source": [
    "# Train model\n",
    "early_stopping = EarlyStopping(monitor='val_accuracy', patience=5, verbose=1, restore_best_weights=True)\n",
    "model.fit(scaled_X_train, y_train, epochs=100, batch_size=32, validation_data=(scaled_X_test, y_test), callbacks=[early_stopping])"
   ],
   "metadata": {
    "collapsed": false,
    "ExecuteTime": {
     "end_time": "2024-01-11T20:25:33.805966900Z",
     "start_time": "2024-01-11T20:25:22.872821200Z"
    }
   },
   "id": "c455b39c7c3b7057",
   "execution_count": 11
  },
  {
   "cell_type": "code",
   "outputs": [
    {
     "name": "stdout",
     "output_type": "stream",
     "text": [
      "118/118 [==============================] - 0s 801us/step - loss: 0.0184 - accuracy: 0.9955\n",
      "Test accuracy: 0.9954871535301208\n"
     ]
    }
   ],
   "source": [
    "# Evaluate model\n",
    "loss, accuracy = model.evaluate(scaled_X_test, y_test)\n",
    "print(f'Test accuracy: {accuracy}')"
   ],
   "metadata": {
    "collapsed": false,
    "ExecuteTime": {
     "end_time": "2024-01-11T20:25:33.958929100Z",
     "start_time": "2024-01-11T20:25:33.802974800Z"
    }
   },
   "id": "b47be15927664755",
   "execution_count": 12
  },
  {
   "cell_type": "markdown",
   "source": [
    "### Convolutional neural network"
   ],
   "metadata": {
    "collapsed": false
   },
   "id": "1594ee3cfbb39f92"
  },
  {
   "cell_type": "markdown",
   "source": [
    "For this task I decided to choose '[Tom and Jerry Image classification](https://www.kaggle.com/datasets/balabaskar/tom-and-jerry-image-classification/data)' dataset. This dataset contains more than 5k images (exactly 5478 images) extracted from some of Tom & Jerry's show videos, that are available online. The downloaded videos are converted into images with 1 frame per second (1 FPS).\n",
    "\n",
    "Labeling for these images is done manually (by going through images one by one to tag them as 1 of the 4 outcomes), so the accuracy of ground_truth is 100%. Labeled images are separated into 4 different folders as given.\n",
    "\n",
    "Folder - tom_and_jerry:\n",
    "1. SubFolder tom - contains images only with 'tom'\n",
    "2. SubFolder jerry - contains images only with 'jerry'\n",
    "3. SubFolder tom_and_jerry - contains images with both 'tom' and 'jerry'\n",
    "4. SubFolder no_tom_no_jerry - contains images without both the characters\n",
    "ground_truth.csv file contains labeled data against each image file\n",
    "\n",
    "**Challenges in the data**\n",
    "There are images that can be challenged during training in image classification, as these images are distorted in the original size or shape and color of the characters. These image details are given in csv file - challenges.csv Doing error analysis on these images after model training, will help us understand how to improve the score."
   ],
   "metadata": {
    "collapsed": false
   },
   "id": "6a7c7e305f112002"
  },
  {
   "cell_type": "code",
   "outputs": [],
   "source": [
    "# Load data\n",
    "dataset_path = '../Lab_3/tom_and_jerry'\n",
    "image_size = (224, 224)"
   ],
   "metadata": {
    "collapsed": false,
    "ExecuteTime": {
     "end_time": "2024-01-11T20:25:33.959926300Z",
     "start_time": "2024-01-11T20:25:33.956751100Z"
    }
   },
   "id": "ce96f13d586f1d37",
   "execution_count": 13
  },
  {
   "cell_type": "code",
   "outputs": [
    {
     "name": "stdout",
     "output_type": "stream",
     "text": [
      "Found 3784 images belonging to 4 classes.\n",
      "Found 946 images belonging to 4 classes.\n"
     ]
    }
   ],
   "source": [
    "# Generators\n",
    "datagen = ImageDataGenerator(rescale=1./255, validation_split=0.2)\n",
    "\n",
    "train_generator = datagen.flow_from_directory(\n",
    "    dataset_path,\n",
    "    target_size=image_size,\n",
    "    batch_size=32,\n",
    "    class_mode='categorical',\n",
    "    subset='training'\n",
    ")\n",
    "\n",
    "validation_generator = datagen.flow_from_directory(\n",
    "    dataset_path,\n",
    "    target_size=image_size,\n",
    "    batch_size=32,\n",
    "    class_mode='categorical',\n",
    "    subset='validation'\n",
    ")"
   ],
   "metadata": {
    "collapsed": false,
    "ExecuteTime": {
     "end_time": "2024-01-11T20:25:34.077163600Z",
     "start_time": "2024-01-11T20:25:33.961920700Z"
    }
   },
   "id": "44d5876bb5b4affd",
   "execution_count": 14
  },
  {
   "cell_type": "code",
   "outputs": [
    {
     "name": "stdout",
     "output_type": "stream",
     "text": [
      "{'jerry': 0, 'no_tom_no_jerry': 1, 'tom': 2, 'tom_and_jerry': 3}\n",
      "Total train samples: 3784\n",
      "Total validation samples: 946\n",
      "Total classes: 4\n"
     ]
    }
   ],
   "source": [
    "# Dataset info\n",
    "train_samples = train_generator.samples\n",
    "validation_samples = validation_generator.samples\n",
    "num_classes = len(train_generator.class_indices)\n",
    "\n",
    "print(train_generator.class_indices)\n",
    "\n",
    "print(f'Total train samples: {train_samples}')\n",
    "print(f'Total validation samples: {validation_samples}')\n",
    "print(f'Total classes: {num_classes}')"
   ],
   "metadata": {
    "collapsed": false,
    "ExecuteTime": {
     "end_time": "2024-01-11T20:25:34.078161200Z",
     "start_time": "2024-01-11T20:25:34.065961900Z"
    }
   },
   "id": "594d2051a291aea",
   "execution_count": 15
  },
  {
   "cell_type": "code",
   "outputs": [
    {
     "name": "stdout",
     "output_type": "stream",
     "text": [
      "WARNING:tensorflow:From D:\\Study\\Sem_9\\DA\\DataAnalysis\\venv\\Lib\\site-packages\\keras\\src\\layers\\pooling\\max_pooling2d.py:161: The name tf.nn.max_pool is deprecated. Please use tf.nn.max_pool2d instead.\n"
     ]
    }
   ],
   "source": [
    "# Creating model\n",
    "model = Sequential()\n",
    "model.add(Conv2D(32, (3, 3), activation='relu', input_shape=(224, 224, 3)))\n",
    "model.add(MaxPooling2D((2, 2)))\n",
    "model.add(Conv2D(64, (3, 3), activation='relu'))\n",
    "model.add(MaxPooling2D((2, 2)))\n",
    "model.add(Conv2D(128, (3, 3), activation='relu'))\n",
    "model.add(MaxPooling2D((2, 2)))\n",
    "model.add(Flatten())\n",
    "model.add(Dense(128, activation='relu'))\n",
    "model.add(Dropout(0.5))\n",
    "model.add(Dense(num_classes, activation='softmax'))\n",
    "\n",
    "# Compile model\n",
    "model.compile(optimizer=Adam(), loss='categorical_crossentropy', metrics=['accuracy'])"
   ],
   "metadata": {
    "collapsed": false,
    "ExecuteTime": {
     "end_time": "2024-01-11T20:25:34.231590400Z",
     "start_time": "2024-01-11T20:25:34.071179100Z"
    }
   },
   "id": "f15d525905c12c05",
   "execution_count": 16
  },
  {
   "cell_type": "code",
   "outputs": [
    {
     "name": "stdout",
     "output_type": "stream",
     "text": [
      "Epoch 1/20\n",
      "119/119 [==============================] - 58s 482ms/step - loss: 1.3350 - accuracy: 0.4440 - val_loss: 1.3127 - val_accuracy: 0.4271\n",
      "Epoch 2/20\n",
      "119/119 [==============================] - 57s 480ms/step - loss: 1.1065 - accuracy: 0.5388 - val_loss: 1.2370 - val_accuracy: 0.4577\n",
      "Epoch 3/20\n",
      "119/119 [==============================] - 57s 479ms/step - loss: 0.8708 - accuracy: 0.6234 - val_loss: 1.2418 - val_accuracy: 0.4841\n",
      "Epoch 4/20\n",
      "119/119 [==============================] - 57s 479ms/step - loss: 0.6794 - accuracy: 0.7008 - val_loss: 1.2191 - val_accuracy: 0.5085\n",
      "Epoch 5/20\n",
      "119/119 [==============================] - 57s 479ms/step - loss: 0.5543 - accuracy: 0.7344 - val_loss: 1.3148 - val_accuracy: 0.5581\n",
      "Epoch 6/20\n",
      "119/119 [==============================] - 57s 479ms/step - loss: 0.4671 - accuracy: 0.7685 - val_loss: 1.6026 - val_accuracy: 0.5782\n",
      "Epoch 7/20\n",
      "119/119 [==============================] - 57s 478ms/step - loss: 0.4150 - accuracy: 0.7812 - val_loss: 1.6244 - val_accuracy: 0.5307\n",
      "Epoch 8/20\n",
      "119/119 [==============================] - 57s 479ms/step - loss: 0.3860 - accuracy: 0.7910 - val_loss: 2.2413 - val_accuracy: 0.5359\n",
      "Epoch 9/20\n",
      "119/119 [==============================] - 57s 480ms/step - loss: 0.3783 - accuracy: 0.7854 - val_loss: 2.6396 - val_accuracy: 0.5507\n",
      "Epoch 10/20\n",
      "119/119 [==============================] - 57s 479ms/step - loss: 0.3667 - accuracy: 0.7992 - val_loss: 1.8527 - val_accuracy: 0.5708\n",
      "Epoch 11/20\n",
      "119/119 [==============================] - 57s 482ms/step - loss: 0.3661 - accuracy: 0.7960 - val_loss: 1.9047 - val_accuracy: 0.5803\n",
      "Epoch 12/20\n",
      "119/119 [==============================] - 57s 479ms/step - loss: 0.3337 - accuracy: 0.8050 - val_loss: 2.6358 - val_accuracy: 0.5412\n",
      "Epoch 13/20\n",
      "119/119 [==============================] - 57s 478ms/step - loss: 0.3260 - accuracy: 0.8081 - val_loss: 3.0047 - val_accuracy: 0.5581\n",
      "Epoch 14/20\n",
      "119/119 [==============================] - 57s 476ms/step - loss: 0.3371 - accuracy: 0.8095 - val_loss: 2.0330 - val_accuracy: 0.5560\n",
      "Epoch 15/20\n",
      "119/119 [==============================] - 57s 478ms/step - loss: 0.3140 - accuracy: 0.8150 - val_loss: 3.0538 - val_accuracy: 0.5476\n",
      "Epoch 16/20\n",
      "119/119 [==============================] - ETA: 0s - loss: 0.3086 - accuracy: 0.8113Restoring model weights from the end of the best epoch: 11.\n",
      "119/119 [==============================] - 57s 479ms/step - loss: 0.3086 - accuracy: 0.8113 - val_loss: 2.2901 - val_accuracy: 0.5613\n",
      "Epoch 16: early stopping\n"
     ]
    },
    {
     "data": {
      "text/plain": "<keras.src.callbacks.History at 0x218e94dbe10>"
     },
     "execution_count": 17,
     "metadata": {},
     "output_type": "execute_result"
    }
   ],
   "source": [
    "# Train model\n",
    "early_stopping = EarlyStopping(monitor='val_accuracy', patience=5, verbose=1, restore_best_weights=True)\n",
    "model.fit(train_generator, epochs=20, validation_data=validation_generator, callbacks=[early_stopping])"
   ],
   "metadata": {
    "collapsed": false,
    "ExecuteTime": {
     "end_time": "2024-01-11T20:40:49.030069Z",
     "start_time": "2024-01-11T20:25:34.234611900Z"
    }
   },
   "id": "289d28fd257e51f5",
   "execution_count": 17
  },
  {
   "cell_type": "code",
   "outputs": [
    {
     "name": "stdout",
     "output_type": "stream",
     "text": [
      "30/30 [==============================] - 4s 131ms/step - loss: 1.9047 - accuracy: 0.5803\n",
      "Test accuracy: 0.5803382396697998\n"
     ]
    }
   ],
   "source": [
    "# Evaluate model\n",
    "test_loss, test_accuracy = model.evaluate(validation_generator)\n",
    "print(f'Test accuracy: {test_accuracy}')"
   ],
   "metadata": {
    "collapsed": false,
    "ExecuteTime": {
     "end_time": "2024-01-11T20:40:53.138304200Z",
     "start_time": "2024-01-11T20:40:49.026079800Z"
    }
   },
   "id": "c5e4204f9f5345cb",
   "execution_count": 18
  },
  {
   "cell_type": "code",
   "outputs": [
    {
     "data": {
      "text/plain": "<Figure size 640x480 with 1 Axes>",
      "image/png": "[encoded data removed]"
     },
     "metadata": {},
     "output_type": "display_data"
    },
    {
     "name": "stdout",
     "output_type": "stream",
     "text": [
      "1/1 [==============================] - 0s 85ms/step\n",
      "Predicted Class: jerry\n"
     ]
    }
   ],
   "source": [
    "# Testing image classification model\n",
    "\n",
    "# Step 1: Randomly select a class from the dataset\n",
    "random_class = np.random.choice(list(train_generator.class_indices.keys()))\n",
    "class_path = os.path.join('../Lab_3/tom_and_jerry', random_class)\n",
    "random_image_path = os.path.join(class_path, np.random.choice(os.listdir(class_path)))\n",
    "\n",
    "# Step 2: Load and display the selected image\n",
    "img = image.load_img(random_image_path, target_size=(224, 224)) \n",
    "plt.imshow(img)\n",
    "plt.title('Actual Class: {}'.format(random_class))\n",
    "plt.show()\n",
    "\n",
    "# Step 3: Preprocess the image\n",
    "img_array = image.img_to_array(img)\n",
    "img_array = np.expand_dims(img_array, axis=0)\n",
    "img_array /= 255.0\n",
    "\n",
    "# Step 4: Use the model to make predictions\n",
    "predictions = model.predict(img_array)\n",
    "\n",
    "# Step 5: Display the predicted class\n",
    "predicted_class_index = np.argmax(predictions)\n",
    "predicted_class = list(train_generator.class_indices.keys())[predicted_class_index]\n",
    "print(f\"Predicted Class: {predicted_class}\")"
   ],
   "metadata": {
    "collapsed": false,
    "ExecuteTime": {
     "end_time": "2024-01-11T20:40:53.416487700Z",
     "start_time": "2024-01-11T20:40:53.138304200Z"
    }
   },
   "id": "4ff69232953064d6",
   "execution_count": 19
  },
  {
   "cell_type": "markdown",
   "source": [
    "### Recurrent neural network"
   ],
   "metadata": {
    "collapsed": false
   },
   "id": "ecdf55fc0781317c"
  },
  {
   "cell_type": "code",
   "outputs": [],
   "source": [
    "# Loading dataset from csv\n",
    "tweet_data = pd.read_csv('../Lab_3/cyberbullying_tweets.csv')"
   ],
   "metadata": {
    "collapsed": false,
    "ExecuteTime": {
     "end_time": "2024-01-11T20:40:53.506524500Z",
     "start_time": "2024-01-11T20:40:53.413495600Z"
    }
   },
   "id": "6a909fffb59ab99e",
   "execution_count": 20
  },
  {
   "cell_type": "code",
   "outputs": [
    {
     "data": {
      "text/plain": "                                          tweet_text cyberbullying_type\n0  In other words #katandandre, your food was cra...  not_cyberbullying\n1  Why is #aussietv so white? #MKR #theblock #ImA...  not_cyberbullying\n2  @XochitlSuckkks a classy whore? Or more red ve...  not_cyberbullying\n3  @Jason_Gio meh. :P  thanks for the heads up, b...  not_cyberbullying\n4  @RudhoeEnglish This is an ISIS account pretend...  not_cyberbullying",
      "text/html": "<div>\n<style scoped>\n    .dataframe tbody tr th:only-of-type {\n        vertical-align: middle;\n    }\n\n    .dataframe tbody tr th {\n        vertical-align: top;\n    }\n\n    .dataframe thead th {\n        text-align: right;\n    }\n</style>\n<table border=\"1\" class=\"dataframe\">\n  <thead>\n    <tr style=\"text-align: right;\">\n      <th></th>\n      <th>tweet_text</th>\n      <th>cyberbullying_type</th>\n    </tr>\n  </thead>\n  <tbody>\n    <tr>\n      <th>0</th>\n      <td>In other words #katandandre, your food was cra...</td>\n      <td>not_cyberbullying</td>\n    </tr>\n    <tr>\n      <th>1</th>\n      <td>Why is #aussietv so white? #MKR #theblock #ImA...</td>\n      <td>not_cyberbullying</td>\n    </tr>\n    <tr>\n      <th>2</th>\n      <td>@XochitlSuckkks a classy whore? Or more red ve...</td>\n      <td>not_cyberbullying</td>\n    </tr>\n    <tr>\n      <th>3</th>\n      <td>@Jason_Gio meh. :P  thanks for the heads up, b...</td>\n      <td>not_cyberbullying</td>\n    </tr>\n    <tr>\n      <th>4</th>\n      <td>@RudhoeEnglish This is an ISIS account pretend...</td>\n      <td>not_cyberbullying</td>\n    </tr>\n  </tbody>\n</table>\n</div>"
     },
     "execution_count": 21,
     "metadata": {},
     "output_type": "execute_result"
    }
   ],
   "source": [
    "# Showing the dataset\n",
    "tweet_data.head()"
   ],
   "metadata": {
    "collapsed": false,
    "ExecuteTime": {
     "end_time": "2024-01-11T20:40:53.514655900Z",
     "start_time": "2024-01-11T20:40:53.510513200Z"
    }
   },
   "id": "81edaa0bab6e715a",
   "execution_count": 21
  },
  {
   "cell_type": "code",
   "outputs": [
    {
     "data": {
      "text/plain": "36"
     },
     "execution_count": 22,
     "metadata": {},
     "output_type": "execute_result"
    }
   ],
   "source": [
    "# Checking if there are duplicated items\n",
    "tweet_data.duplicated().sum()"
   ],
   "metadata": {
    "collapsed": false,
    "ExecuteTime": {
     "end_time": "2024-01-11T20:40:53.554106800Z",
     "start_time": "2024-01-11T20:40:53.519642600Z"
    }
   },
   "id": "b7c174563fb00f2d",
   "execution_count": 22
  },
  {
   "cell_type": "code",
   "outputs": [],
   "source": [
    "# Remove duplicated items\n",
    "tweet_data.drop_duplicates(inplace=True)"
   ],
   "metadata": {
    "collapsed": false,
    "ExecuteTime": {
     "end_time": "2024-01-11T20:40:53.605143600Z",
     "start_time": "2024-01-11T20:40:53.543165800Z"
    }
   },
   "id": "ed01b193579b2237",
   "execution_count": 23
  },
  {
   "cell_type": "code",
   "outputs": [],
   "source": [
    "# Function for tweet text preprocessing with cleaning, stop words filtration and stemming\n",
    "def data_preprocessing(tweet_text):\n",
    "    # Convert to lowercase\n",
    "    tweet_text = tweet_text.lower()\n",
    "    # Remove Twitter usernames\n",
    "    tweet_text = re.sub('@\\S+', ' ', tweet_text)\n",
    "    # Remove hashtags\n",
    "    tweet_text = re.sub('#\\S+', ' ', tweet_text)\n",
    "    # Remove URLs\n",
    "    tweet_text = re.sub('https*\\S+', ' ', tweet_text)\n",
    "    # Remove numbers\n",
    "    tweet_text = re.sub('\\d', ' ', tweet_text)\n",
    "    # Remove punctuations\n",
    "    tweet_text = re.sub('[%s]' % re.escape(string.punctuation), ' ', tweet_text)\n",
    "    # Remove extra spaces\n",
    "    tweet_text = re.sub('\\s{2,}', ' ', tweet_text)\n",
    "    \n",
    "    # Stop words filtration\n",
    "    words = word_tokenize(tweet_text)\n",
    "    stop_words = set(stopwords.words('english'))\n",
    "    words = [word for word in words if word not in stop_words]\n",
    "    \n",
    "    # Stemming\n",
    "    stemmer = PorterStemmer()\n",
    "    words = [stemmer.stem(word) for word in words]\n",
    "    processed_tweet = ' '.join(words)\n",
    "    \n",
    "    return processed_tweet"
   ],
   "metadata": {
    "collapsed": false,
    "ExecuteTime": {
     "end_time": "2024-01-11T20:40:53.623094Z",
     "start_time": "2024-01-11T20:40:53.571695600Z"
    }
   },
   "id": "3bf852375945ad49",
   "execution_count": 24
  },
  {
   "cell_type": "code",
   "outputs": [],
   "source": [
    "# Applying preprocessing\n",
    "tweet_data['tweet_text'] = tweet_data['tweet_text'].apply(data_preprocessing)"
   ],
   "metadata": {
    "collapsed": false,
    "ExecuteTime": {
     "end_time": "2024-01-11T20:41:14.774068400Z",
     "start_time": "2024-01-11T20:40:53.576191300Z"
    }
   },
   "id": "1cc55aaa02d49688",
   "execution_count": 25
  },
  {
   "cell_type": "code",
   "outputs": [],
   "source": [
    "# Splitting data to train and test with 20% test data size\n",
    "train_df, test_df = train_test_split(tweet_data, test_size=0.2, random_state=42, stratify=tweet_data['cyberbullying_type'])"
   ],
   "metadata": {
    "collapsed": false,
    "ExecuteTime": {
     "end_time": "2024-01-11T20:41:14.808068200Z",
     "start_time": "2024-01-11T20:41:14.776048700Z"
    }
   },
   "id": "9b20e478f4cd35a7",
   "execution_count": 26
  },
  {
   "cell_type": "code",
   "outputs": [],
   "source": [
    "# Tokenize and pad the text data\n",
    "max_words = 10000  # Maximum number of words in the vocabulary\n",
    "max_len = 100  # Maximum length of each sequence\n",
    "tokenizer = Tokenizer(num_words=max_words, oov_token='<OOV>')\n",
    "tokenizer.fit_on_texts(train_df['tweet_text'])\n",
    "train_sequences = tokenizer.texts_to_sequences(train_df['tweet_text'])\n",
    "test_sequences = tokenizer.texts_to_sequences(test_df['tweet_text'])\n",
    "train_padded = pad_sequences(train_sequences, maxlen=max_len, padding='post', truncating='post')\n",
    "test_padded = pad_sequences(test_sequences, maxlen=max_len, padding='post', truncating='post')"
   ],
   "metadata": {
    "collapsed": false,
    "ExecuteTime": {
     "end_time": "2024-01-11T20:41:15.734295100Z",
     "start_time": "2024-01-11T20:41:14.805048900Z"
    }
   },
   "id": "43c1ce12bd032893",
   "execution_count": 27
  },
  {
   "cell_type": "code",
   "outputs": [],
   "source": [
    "# Convert class labels to categorical\n",
    "train_labels = pd.get_dummies(train_df['cyberbullying_type']).values\n",
    "test_labels = pd.get_dummies(test_df['cyberbullying_type']).values"
   ],
   "metadata": {
    "collapsed": false,
    "ExecuteTime": {
     "end_time": "2024-01-11T20:41:15.751373400Z",
     "start_time": "2024-01-11T20:41:15.736289500Z"
    }
   },
   "id": "df9265326f998d17",
   "execution_count": 28
  },
  {
   "cell_type": "code",
   "outputs": [],
   "source": [
    "# Creating model\n",
    "model = Sequential()\n",
    "model.add(Embedding(input_dim=max_words, output_dim=64, input_length=max_len))\n",
    "model.add(Bidirectional(LSTM(64, return_sequences=True)))\n",
    "model.add(Bidirectional(LSTM(32)))\n",
    "model.add(Dense(6, activation='softmax'))\n",
    "\n",
    "# Compile the model\n",
    "model.compile(optimizer='adam', loss='categorical_crossentropy', metrics=['accuracy'])"
   ],
   "metadata": {
    "collapsed": false,
    "ExecuteTime": {
     "end_time": "2024-01-11T20:41:16.481858100Z",
     "start_time": "2024-01-11T20:41:15.751373400Z"
    }
   },
   "id": "3d725ae29e61b3",
   "execution_count": 29
  },
  {
   "cell_type": "code",
   "outputs": [
    {
     "name": "stdout",
     "output_type": "stream",
     "text": [
      "Epoch 1/50\n",
      "954/954 [==============================] - 46s 43ms/step - loss: 0.6370 - accuracy: 0.7250 - val_loss: 0.4717 - val_accuracy: 0.7936\n",
      "Epoch 2/50\n",
      "954/954 [==============================] - 40s 42ms/step - loss: 0.3879 - accuracy: 0.8406 - val_loss: 0.4510 - val_accuracy: 0.8195\n",
      "Epoch 3/50\n",
      "954/954 [==============================] - 40s 42ms/step - loss: 0.3190 - accuracy: 0.8710 - val_loss: 0.4603 - val_accuracy: 0.8165\n",
      "Epoch 4/50\n",
      "954/954 [==============================] - 41s 43ms/step - loss: 0.2745 - accuracy: 0.8886 - val_loss: 0.5048 - val_accuracy: 0.8122\n",
      "Epoch 5/50\n",
      "954/954 [==============================] - 40s 42ms/step - loss: 0.2467 - accuracy: 0.8987 - val_loss: 0.5273 - val_accuracy: 0.8117\n",
      "Epoch 6/50\n",
      "954/954 [==============================] - 40s 42ms/step - loss: 0.2185 - accuracy: 0.9081 - val_loss: 0.5571 - val_accuracy: 0.8088\n",
      "Epoch 7/50\n",
      "953/954 [============================>.] - ETA: 0s - loss: 0.1929 - accuracy: 0.9165Restoring model weights from the end of the best epoch: 2.\n",
      "954/954 [==============================] - 40s 42ms/step - loss: 0.1929 - accuracy: 0.9165 - val_loss: 0.6309 - val_accuracy: 0.8045\n",
      "Epoch 7: early stopping\n"
     ]
    },
    {
     "data": {
      "text/plain": "<keras.src.callbacks.History at 0x21949061890>"
     },
     "execution_count": 30,
     "metadata": {},
     "output_type": "execute_result"
    }
   ],
   "source": [
    "# Train model\n",
    "early_stopping = EarlyStopping(monitor='val_accuracy', patience=5, verbose=1, restore_best_weights=True)\n",
    "model.fit(train_padded, train_labels, epochs=50, validation_split=0.2, callbacks=[early_stopping])"
   ],
   "metadata": {
    "collapsed": false,
    "ExecuteTime": {
     "end_time": "2024-01-11T20:46:04.637215700Z",
     "start_time": "2024-01-11T20:41:16.485847500Z"
    }
   },
   "id": "549221a89d74e77e",
   "execution_count": 30
  },
  {
   "cell_type": "code",
   "outputs": [
    {
     "name": "stdout",
     "output_type": "stream",
     "text": [
      "298/298 [==============================] - 4s 13ms/step - loss: 0.4556 - accuracy: 0.8116\n",
      "Test Accuracy: 0.8115820288658142\n"
     ]
    }
   ],
   "source": [
    "# Evaluate model\n",
    "test_loss, test_accuracy = model.evaluate(test_padded, test_labels)\n",
    "print(f'Test Accuracy: {test_accuracy}')"
   ],
   "metadata": {
    "collapsed": false,
    "ExecuteTime": {
     "end_time": "2024-01-11T20:46:08.505002900Z",
     "start_time": "2024-01-11T20:46:04.631232100Z"
    }
   },
   "id": "e5a4a103d404ed91",
   "execution_count": 31
  },
  {
   "cell_type": "markdown",
   "source": [
    "### Conclusions"
   ],
   "metadata": {
    "collapsed": false
   },
   "id": "be310298004120c1"
  },
  {
   "cell_type": "markdown",
   "source": [
    "**Fully Connected Neural Networks**:\n",
    "The implementation of fully connected neural networks demonstrated their capacity in capturing intricate patterns within the data. The models exhibited satisfactory accuracy on the test set, indicating their effectiveness in handling classification tasks. Further refinement through fine-tuning and hyperparameter optimization holds promise for enhanced performance.\n",
    "\n",
    "**Convolutional Neural Networks**:\n",
    "Convolutional neural networks showcased their prowess in learning hierarchical features from image data. The integration of convolutional and pooling layers allowed for effective image classification. There's potential for improved results by fine-tuning the architecture and incorporating data augmentation techniques.\n",
    "\n",
    "**Recurrent Neural Networks**:\n",
    "Recurrent neural networks effectively captured sequential dependencies within text data, making them suitable for text classification tasks. The bidirectional LSTM layer demonstrated the model's ability to understand context and dependencies in both directions. Further exploration involving hyperparameter tuning and alternative architectures could lead to heightened performance.\n",
    "\n",
    "**General Insights**:\n",
    "\n",
    "**Data Preprocessing**:\n",
    "Effective data preprocessing, including tokenization, padding, and normalization, played a pivotal role in model training. Clean and well-prepared data is essential for optimal neural network performance.\n",
    "\n",
    "**Model Complexity**:\n",
    "The importance of adjusting model complexity based on the characteristics of the data and the intricacy of the task was evident. A balanced model complexity is crucial for achieving optimal results.\n",
    "\n",
    "**Hyperparameter Tuning**:\n",
    "Fine-tuning hyperparameters, such as learning rates and layer dimensions, emerged as a critical aspect of model optimization. Iterative adjustments can significantly impact overall performance.\n",
    "\n",
    "**Evaluation Metrics**:\n",
    "The choice of appropriate evaluation metrics beyond accuracy was emphasized. Understanding precision, recall, and F1 score provides a more comprehensive assessment of model effectiveness.\n",
    "\n",
    "**Further Exploration**:\n",
    "Encouraging continuous exploration of different architectures, optimization techniques, and preprocessing strategies remains key. Ongoing refinement and experimentation promise the potential for even greater model efficacy."
   ],
   "metadata": {
    "collapsed": false
   },
   "id": "3ea2c8d57e2b4121"
  }
 ],
 "metadata": {
  "kernelspec": {
   "display_name": "Python 3",
   "language": "python",
   "name": "python3"
  },
  "language_info": {
   "codemirror_mode": {
    "name": "ipython",
    "version": 2
   },
   "file_extension": ".py",
   "mimetype": "text/x-python",
   "name": "python",
   "nbconvert_exporter": "python",
   "pygments_lexer": "ipython2",
   "version": "2.7.6"
  }
 },
 "nbformat": 4,
 "nbformat_minor": 5
}
