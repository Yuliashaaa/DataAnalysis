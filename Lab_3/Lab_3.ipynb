{
 "cells": [
  {
   "cell_type": "markdown",
   "source": [
    "# Lab 3: Знайомство з нейромережами\n",
    "### Шевченко Юлія, ФІ-31мн"
   ],
   "metadata": {
    "collapsed": false
   },
   "id": "9ef7ff50bd00db35"
  },
  {
   "cell_type": "markdown",
   "source": [
    "### Lab Task:\n",
    "\n",
    "1. _**Повнозв'язані нейронні мережі**_. Вирішити завдання класифікації даних, з якими працювали в лабораторній №1 за допомогою повнозв’язаної нейромережі прямого поширення (fully connected feed-forward network). Результати порівняти з одержаними раніше.\n",
    "2. _**Згорткові нейронні мережі**_. Вирішити завдання класифікації зображень за допомогою згорткової (convolutional) нейромережі (якщо в обраному датасеті класів забагато, достатньо залишити 3-5).\n",
    "3. _**Рекурентні нейронні мережі**_. Вирішити задачу класифікації текстів (з якими працювали в лабораторній №2) за допомогою рекурентної нейромережі. Результати порівняти з одержаними раніше. "
   ],
   "metadata": {
    "collapsed": false
   },
   "id": "eacfb851abd70dcf"
  },
  {
   "cell_type": "code",
   "outputs": [
    {
     "name": "stdout",
     "output_type": "stream",
     "text": [
      "WARNING:tensorflow:From D:\\Study\\Sem_9\\DA\\DataAnalysis\\venv\\Lib\\site-packages\\keras\\src\\losses.py:2976: The name tf.losses.sparse_softmax_cross_entropy is deprecated. Please use tf.compat.v1.losses.sparse_softmax_cross_entropy instead.\n"
     ]
    }
   ],
   "source": [
    "# All the imports for the task\n",
    "import matplotlib.pyplot as plt\n",
    "import numpy as np\n",
    "import pandas as pd\n",
    "import seaborn as sns\n",
    "from sklearn.ensemble import AdaBoostClassifier\n",
    "from sklearn.ensemble import RandomForestClassifier\n",
    "from sklearn.metrics import accuracy_score\n",
    "from sklearn.metrics import classification_report\n",
    "from sklearn.metrics import confusion_matrix\n",
    "from sklearn.model_selection import train_test_split, GridSearchCV\n",
    "from sklearn.neighbors import KNeighborsClassifier\n",
    "from sklearn.preprocessing import StandardScaler\n",
    "from sklearn.svm import SVC\n",
    "from sklearn.tree import DecisionTreeClassifier\n",
    "from keras.models import Sequential\n",
    "from keras.layers import Dense\n",
    "from sklearn.model_selection import train_test_split\n",
    "from keras.callbacks import EarlyStopping\n",
    "from keras.models import Sequential\n",
    "from keras.layers import Dense\n",
    "from sklearn.model_selection import train_test_split"
   ],
   "metadata": {
    "collapsed": false,
    "ExecuteTime": {
     "end_time": "2024-01-10T20:37:36.672825300Z",
     "start_time": "2024-01-10T20:37:33.072315300Z"
    }
   },
   "id": "a7449c066a55730b",
   "execution_count": 1
  },
  {
   "cell_type": "markdown",
   "source": [
    "### Fully connected feed-forward network"
   ],
   "metadata": {
    "collapsed": false
   },
   "id": "5a8257e7fd368cbb"
  },
  {
   "cell_type": "code",
   "outputs": [],
   "source": [
    "# Loading dataset from csv\n",
    "spotify_data = pd.read_csv('../Lab_3/song_data.csv')"
   ],
   "metadata": {
    "collapsed": false,
    "ExecuteTime": {
     "end_time": "2024-01-10T20:37:36.714228Z",
     "start_time": "2024-01-10T20:37:36.675817500Z"
    }
   },
   "id": "59b092d1f54f4b6d",
   "execution_count": 2
  },
  {
   "cell_type": "code",
   "outputs": [
    {
     "data": {
      "text/plain": "                    song_name  song_popularity  song_duration_ms  \\\n0  Boulevard of Broken Dreams               73            262333   \n1                  In The End               66            216933   \n2           Seven Nation Army               76            231733   \n3                  By The Way               74            216933   \n4           How You Remind Me               56            223826   \n\n   acousticness  danceability  energy  instrumentalness  key  liveness  \\\n0      0.005520         0.496   0.682          0.000029    8    0.0589   \n1      0.010300         0.542   0.853          0.000000    3    0.1080   \n2      0.008170         0.737   0.463          0.447000    0    0.2550   \n3      0.026400         0.451   0.970          0.003550    0    0.1020   \n4      0.000954         0.447   0.766          0.000000   10    0.1130   \n\n   loudness  audio_mode  speechiness    tempo  time_signature  audio_valence  \n0    -4.095           1       0.0294  167.060               4          0.474  \n1    -6.407           0       0.0498  105.256               4          0.370  \n2    -7.828           1       0.0792  123.881               4          0.324  \n3    -4.938           1       0.1070  122.444               4          0.198  \n4    -5.065           1       0.0313  172.011               4          0.574  ",
      "text/html": "<div>\n<style scoped>\n    .dataframe tbody tr th:only-of-type {\n        vertical-align: middle;\n    }\n\n    .dataframe tbody tr th {\n        vertical-align: top;\n    }\n\n    .dataframe thead th {\n        text-align: right;\n    }\n</style>\n<table border=\"1\" class=\"dataframe\">\n  <thead>\n    <tr style=\"text-align: right;\">\n      <th></th>\n      <th>song_name</th>\n      <th>song_popularity</th>\n      <th>song_duration_ms</th>\n      <th>acousticness</th>\n      <th>danceability</th>\n      <th>energy</th>\n      <th>instrumentalness</th>\n      <th>key</th>\n      <th>liveness</th>\n      <th>loudness</th>\n      <th>audio_mode</th>\n      <th>speechiness</th>\n      <th>tempo</th>\n      <th>time_signature</th>\n      <th>audio_valence</th>\n    </tr>\n  </thead>\n  <tbody>\n    <tr>\n      <th>0</th>\n      <td>Boulevard of Broken Dreams</td>\n      <td>73</td>\n      <td>262333</td>\n      <td>0.005520</td>\n      <td>0.496</td>\n      <td>0.682</td>\n      <td>0.000029</td>\n      <td>8</td>\n      <td>0.0589</td>\n      <td>-4.095</td>\n      <td>1</td>\n      <td>0.0294</td>\n      <td>167.060</td>\n      <td>4</td>\n      <td>0.474</td>\n    </tr>\n    <tr>\n      <th>1</th>\n      <td>In The End</td>\n      <td>66</td>\n      <td>216933</td>\n      <td>0.010300</td>\n      <td>0.542</td>\n      <td>0.853</td>\n      <td>0.000000</td>\n      <td>3</td>\n      <td>0.1080</td>\n      <td>-6.407</td>\n      <td>0</td>\n      <td>0.0498</td>\n      <td>105.256</td>\n      <td>4</td>\n      <td>0.370</td>\n    </tr>\n    <tr>\n      <th>2</th>\n      <td>Seven Nation Army</td>\n      <td>76</td>\n      <td>231733</td>\n      <td>0.008170</td>\n      <td>0.737</td>\n      <td>0.463</td>\n      <td>0.447000</td>\n      <td>0</td>\n      <td>0.2550</td>\n      <td>-7.828</td>\n      <td>1</td>\n      <td>0.0792</td>\n      <td>123.881</td>\n      <td>4</td>\n      <td>0.324</td>\n    </tr>\n    <tr>\n      <th>3</th>\n      <td>By The Way</td>\n      <td>74</td>\n      <td>216933</td>\n      <td>0.026400</td>\n      <td>0.451</td>\n      <td>0.970</td>\n      <td>0.003550</td>\n      <td>0</td>\n      <td>0.1020</td>\n      <td>-4.938</td>\n      <td>1</td>\n      <td>0.1070</td>\n      <td>122.444</td>\n      <td>4</td>\n      <td>0.198</td>\n    </tr>\n    <tr>\n      <th>4</th>\n      <td>How You Remind Me</td>\n      <td>56</td>\n      <td>223826</td>\n      <td>0.000954</td>\n      <td>0.447</td>\n      <td>0.766</td>\n      <td>0.000000</td>\n      <td>10</td>\n      <td>0.1130</td>\n      <td>-5.065</td>\n      <td>1</td>\n      <td>0.0313</td>\n      <td>172.011</td>\n      <td>4</td>\n      <td>0.574</td>\n    </tr>\n  </tbody>\n</table>\n</div>"
     },
     "execution_count": 3,
     "metadata": {},
     "output_type": "execute_result"
    }
   ],
   "source": [
    "# Showing the dataset\n",
    "spotify_data.head()"
   ],
   "metadata": {
    "collapsed": false,
    "ExecuteTime": {
     "end_time": "2024-01-10T20:37:36.733081500Z",
     "start_time": "2024-01-10T20:37:36.718217100Z"
    }
   },
   "id": "9f84dc5282013b39",
   "execution_count": 3
  },
  {
   "cell_type": "code",
   "outputs": [
    {
     "name": "stdout",
     "output_type": "stream",
     "text": [
      "The dataset contains such columns: Index(['song_name', 'song_popularity', 'song_duration_ms', 'acousticness',\n",
      "       'danceability', 'energy', 'instrumentalness', 'key', 'liveness',\n",
      "       'loudness', 'audio_mode', 'speechiness', 'tempo', 'time_signature',\n",
      "       'audio_valence'],\n",
      "      dtype='object')\n"
     ]
    }
   ],
   "source": [
    "# Showing the dataset columns\n",
    "print('The dataset contains such columns: {}'.format(spotify_data.columns))"
   ],
   "metadata": {
    "collapsed": false,
    "ExecuteTime": {
     "end_time": "2024-01-10T20:37:36.734103400Z",
     "start_time": "2024-01-10T20:37:36.729964500Z"
    }
   },
   "id": "ba542336a8819edc",
   "execution_count": 4
  },
  {
   "cell_type": "code",
   "outputs": [],
   "source": [
    "# Some columns have 'int64' type, so we convert them to float\n",
    "spotify_data.song_duration_ms = spotify_data.song_duration_ms.astype(float)\n",
    "spotify_data.audio_mode = spotify_data.audio_mode.astype(float)\n",
    "spotify_data.time_signature = spotify_data.time_signature.astype(float)"
   ],
   "metadata": {
    "collapsed": false,
    "ExecuteTime": {
     "end_time": "2024-01-10T20:37:36.753160500Z",
     "start_time": "2024-01-10T20:37:36.735075900Z"
    }
   },
   "id": "a27f8abb941cf4d2",
   "execution_count": 5
  },
  {
   "cell_type": "code",
   "outputs": [
    {
     "data": {
      "text/plain": "popularity\n0    14384\n1     4451\nName: count, dtype: int64"
     },
     "execution_count": 6,
     "metadata": {},
     "output_type": "execute_result"
    }
   ],
   "source": [
    "# Considering song is popular if song_popularity value is >= 70\n",
    "spotify_data['popularity'] = [1 if value >= 70 else 0 for value in spotify_data.song_popularity]\n",
    "spotify_data.popularity.value_counts()"
   ],
   "metadata": {
    "collapsed": false,
    "ExecuteTime": {
     "end_time": "2024-01-10T20:37:36.783743400Z",
     "start_time": "2024-01-10T20:37:36.739517200Z"
    }
   },
   "id": "6e216482cae47d31",
   "execution_count": 6
  },
  {
   "cell_type": "code",
   "outputs": [
    {
     "data": {
      "text/plain": "                  song_popularity  song_duration_ms  acousticness  \\\nsong_popularity          1.000000         -0.018899     -0.065181   \nsong_duration_ms        -0.018899          1.000000     -0.097882   \nacousticness            -0.065181         -0.097882      1.000000   \ndanceability             0.104290         -0.104985     -0.182500   \nenergy                   0.001365          0.092688     -0.662639   \ninstrumentalness        -0.130907         -0.015188      0.173098   \nkey                     -0.013160         -0.004615     -0.002025   \nliveness                -0.038937          0.016086     -0.082537   \nloudness                 0.099442          0.016469     -0.557744   \naudio_mode              -0.004969         -0.026328      0.064100   \nspeechiness              0.021479         -0.083447     -0.093574   \ntempo                   -0.022672          0.012791     -0.136421   \ntime_signature           0.034983          0.000264     -0.157177   \naudio_valence           -0.052895         -0.063421     -0.121670   \npopularity               0.660385          0.005092     -0.101694   \n\n                  danceability    energy  instrumentalness       key  \\\nsong_popularity       0.104290  0.001365         -0.130907 -0.013160   \nsong_duration_ms     -0.104985  0.092688         -0.015188 -0.004615   \nacousticness         -0.182500 -0.662639          0.173098 -0.002025   \ndanceability          1.000000  0.044373         -0.130483  0.007723   \nenergy                0.044373  1.000000         -0.205914  0.020416   \ninstrumentalness     -0.130483 -0.205914          1.000000 -0.009463   \nkey                   0.007723  0.020416         -0.009463  1.000000   \nliveness             -0.090694  0.167143         -0.032887 -0.008193   \nloudness              0.177639  0.755516         -0.390248  0.010452   \naudio_mode           -0.106539 -0.051605         -0.014983 -0.169848   \nspeechiness           0.213728  0.062053         -0.081138  0.033639   \ntempo                -0.121286  0.162448         -0.036934  0.003239   \ntime_signature        0.136391  0.146265         -0.069181 -0.008282   \naudio_valence         0.332014  0.316742         -0.178570  0.025356   \npopularity            0.117811  0.042833         -0.152954 -0.021929   \n\n                  liveness  loudness  audio_mode  speechiness     tempo  \\\nsong_popularity  -0.038937  0.099442   -0.004969     0.021479 -0.022672   \nsong_duration_ms  0.016086  0.016469   -0.026328    -0.083447  0.012791   \nacousticness     -0.082537 -0.557744    0.064100    -0.093574 -0.136421   \ndanceability     -0.090694  0.177639   -0.106539     0.213728 -0.121286   \nenergy            0.167143  0.755516   -0.051605     0.062053  0.162448   \ninstrumentalness -0.032887 -0.390248   -0.014983    -0.081138 -0.036934   \nkey              -0.008193  0.010452   -0.169848     0.033639  0.003239   \nliveness          1.000000  0.102450   -0.001035     0.090845  0.031876   \nloudness          0.102450  1.000000   -0.058506     0.078164  0.129938   \naudio_mode       -0.001035 -0.058506    1.000000    -0.111627  0.020448   \nspeechiness       0.090845  0.078164   -0.111627     1.000000  0.071685   \ntempo             0.031876  0.129938    0.020448     0.071685  1.000000   \ntime_signature    0.013289  0.119241   -0.024042     0.057162  0.003978   \naudio_valence     0.013789  0.199696   -0.004558     0.011046  0.037667   \npopularity       -0.025308  0.145254   -0.019096     0.030528 -0.005206   \n\n                  time_signature  audio_valence  popularity  \nsong_popularity         0.034983      -0.052895    0.660385  \nsong_duration_ms        0.000264      -0.063421    0.005092  \nacousticness           -0.157177      -0.121670   -0.101694  \ndanceability            0.136391       0.332014    0.117811  \nenergy                  0.146265       0.316742    0.042833  \ninstrumentalness       -0.069181      -0.178570   -0.152954  \nkey                    -0.008282       0.025356   -0.021929  \nliveness                0.013289       0.013789   -0.025308  \nloudness                0.119241       0.199696    0.145254  \naudio_mode             -0.024042      -0.004558   -0.019096  \nspeechiness             0.057162       0.011046    0.030528  \ntempo                   0.003978       0.037667   -0.005206  \ntime_signature          1.000000       0.094670    0.029709  \naudio_valence           0.094670       1.000000   -0.018305  \npopularity              0.029709      -0.018305    1.000000  ",
      "text/html": "<div>\n<style scoped>\n    .dataframe tbody tr th:only-of-type {\n        vertical-align: middle;\n    }\n\n    .dataframe tbody tr th {\n        vertical-align: top;\n    }\n\n    .dataframe thead th {\n        text-align: right;\n    }\n</style>\n<table border=\"1\" class=\"dataframe\">\n  <thead>\n    <tr style=\"text-align: right;\">\n      <th></th>\n      <th>song_popularity</th>\n      <th>song_duration_ms</th>\n      <th>acousticness</th>\n      <th>danceability</th>\n      <th>energy</th>\n      <th>instrumentalness</th>\n      <th>key</th>\n      <th>liveness</th>\n      <th>loudness</th>\n      <th>audio_mode</th>\n      <th>speechiness</th>\n      <th>tempo</th>\n      <th>time_signature</th>\n      <th>audio_valence</th>\n      <th>popularity</th>\n    </tr>\n  </thead>\n  <tbody>\n    <tr>\n      <th>song_popularity</th>\n      <td>1.000000</td>\n      <td>-0.018899</td>\n      <td>-0.065181</td>\n      <td>0.104290</td>\n      <td>0.001365</td>\n      <td>-0.130907</td>\n      <td>-0.013160</td>\n      <td>-0.038937</td>\n      <td>0.099442</td>\n      <td>-0.004969</td>\n      <td>0.021479</td>\n      <td>-0.022672</td>\n      <td>0.034983</td>\n      <td>-0.052895</td>\n      <td>0.660385</td>\n    </tr>\n    <tr>\n      <th>song_duration_ms</th>\n      <td>-0.018899</td>\n      <td>1.000000</td>\n      <td>-0.097882</td>\n      <td>-0.104985</td>\n      <td>0.092688</td>\n      <td>-0.015188</td>\n      <td>-0.004615</td>\n      <td>0.016086</td>\n      <td>0.016469</td>\n      <td>-0.026328</td>\n      <td>-0.083447</td>\n      <td>0.012791</td>\n      <td>0.000264</td>\n      <td>-0.063421</td>\n      <td>0.005092</td>\n    </tr>\n    <tr>\n      <th>acousticness</th>\n      <td>-0.065181</td>\n      <td>-0.097882</td>\n      <td>1.000000</td>\n      <td>-0.182500</td>\n      <td>-0.662639</td>\n      <td>0.173098</td>\n      <td>-0.002025</td>\n      <td>-0.082537</td>\n      <td>-0.557744</td>\n      <td>0.064100</td>\n      <td>-0.093574</td>\n      <td>-0.136421</td>\n      <td>-0.157177</td>\n      <td>-0.121670</td>\n      <td>-0.101694</td>\n    </tr>\n    <tr>\n      <th>danceability</th>\n      <td>0.104290</td>\n      <td>-0.104985</td>\n      <td>-0.182500</td>\n      <td>1.000000</td>\n      <td>0.044373</td>\n      <td>-0.130483</td>\n      <td>0.007723</td>\n      <td>-0.090694</td>\n      <td>0.177639</td>\n      <td>-0.106539</td>\n      <td>0.213728</td>\n      <td>-0.121286</td>\n      <td>0.136391</td>\n      <td>0.332014</td>\n      <td>0.117811</td>\n    </tr>\n    <tr>\n      <th>energy</th>\n      <td>0.001365</td>\n      <td>0.092688</td>\n      <td>-0.662639</td>\n      <td>0.044373</td>\n      <td>1.000000</td>\n      <td>-0.205914</td>\n      <td>0.020416</td>\n      <td>0.167143</td>\n      <td>0.755516</td>\n      <td>-0.051605</td>\n      <td>0.062053</td>\n      <td>0.162448</td>\n      <td>0.146265</td>\n      <td>0.316742</td>\n      <td>0.042833</td>\n    </tr>\n    <tr>\n      <th>instrumentalness</th>\n      <td>-0.130907</td>\n      <td>-0.015188</td>\n      <td>0.173098</td>\n      <td>-0.130483</td>\n      <td>-0.205914</td>\n      <td>1.000000</td>\n      <td>-0.009463</td>\n      <td>-0.032887</td>\n      <td>-0.390248</td>\n      <td>-0.014983</td>\n      <td>-0.081138</td>\n      <td>-0.036934</td>\n      <td>-0.069181</td>\n      <td>-0.178570</td>\n      <td>-0.152954</td>\n    </tr>\n    <tr>\n      <th>key</th>\n      <td>-0.013160</td>\n      <td>-0.004615</td>\n      <td>-0.002025</td>\n      <td>0.007723</td>\n      <td>0.020416</td>\n      <td>-0.009463</td>\n      <td>1.000000</td>\n      <td>-0.008193</td>\n      <td>0.010452</td>\n      <td>-0.169848</td>\n      <td>0.033639</td>\n      <td>0.003239</td>\n      <td>-0.008282</td>\n      <td>0.025356</td>\n      <td>-0.021929</td>\n    </tr>\n    <tr>\n      <th>liveness</th>\n      <td>-0.038937</td>\n      <td>0.016086</td>\n      <td>-0.082537</td>\n      <td>-0.090694</td>\n      <td>0.167143</td>\n      <td>-0.032887</td>\n      <td>-0.008193</td>\n      <td>1.000000</td>\n      <td>0.102450</td>\n      <td>-0.001035</td>\n      <td>0.090845</td>\n      <td>0.031876</td>\n      <td>0.013289</td>\n      <td>0.013789</td>\n      <td>-0.025308</td>\n    </tr>\n    <tr>\n      <th>loudness</th>\n      <td>0.099442</td>\n      <td>0.016469</td>\n      <td>-0.557744</td>\n      <td>0.177639</td>\n      <td>0.755516</td>\n      <td>-0.390248</td>\n      <td>0.010452</td>\n      <td>0.102450</td>\n      <td>1.000000</td>\n      <td>-0.058506</td>\n      <td>0.078164</td>\n      <td>0.129938</td>\n      <td>0.119241</td>\n      <td>0.199696</td>\n      <td>0.145254</td>\n    </tr>\n    <tr>\n      <th>audio_mode</th>\n      <td>-0.004969</td>\n      <td>-0.026328</td>\n      <td>0.064100</td>\n      <td>-0.106539</td>\n      <td>-0.051605</td>\n      <td>-0.014983</td>\n      <td>-0.169848</td>\n      <td>-0.001035</td>\n      <td>-0.058506</td>\n      <td>1.000000</td>\n      <td>-0.111627</td>\n      <td>0.020448</td>\n      <td>-0.024042</td>\n      <td>-0.004558</td>\n      <td>-0.019096</td>\n    </tr>\n    <tr>\n      <th>speechiness</th>\n      <td>0.021479</td>\n      <td>-0.083447</td>\n      <td>-0.093574</td>\n      <td>0.213728</td>\n      <td>0.062053</td>\n      <td>-0.081138</td>\n      <td>0.033639</td>\n      <td>0.090845</td>\n      <td>0.078164</td>\n      <td>-0.111627</td>\n      <td>1.000000</td>\n      <td>0.071685</td>\n      <td>0.057162</td>\n      <td>0.011046</td>\n      <td>0.030528</td>\n    </tr>\n    <tr>\n      <th>tempo</th>\n      <td>-0.022672</td>\n      <td>0.012791</td>\n      <td>-0.136421</td>\n      <td>-0.121286</td>\n      <td>0.162448</td>\n      <td>-0.036934</td>\n      <td>0.003239</td>\n      <td>0.031876</td>\n      <td>0.129938</td>\n      <td>0.020448</td>\n      <td>0.071685</td>\n      <td>1.000000</td>\n      <td>0.003978</td>\n      <td>0.037667</td>\n      <td>-0.005206</td>\n    </tr>\n    <tr>\n      <th>time_signature</th>\n      <td>0.034983</td>\n      <td>0.000264</td>\n      <td>-0.157177</td>\n      <td>0.136391</td>\n      <td>0.146265</td>\n      <td>-0.069181</td>\n      <td>-0.008282</td>\n      <td>0.013289</td>\n      <td>0.119241</td>\n      <td>-0.024042</td>\n      <td>0.057162</td>\n      <td>0.003978</td>\n      <td>1.000000</td>\n      <td>0.094670</td>\n      <td>0.029709</td>\n    </tr>\n    <tr>\n      <th>audio_valence</th>\n      <td>-0.052895</td>\n      <td>-0.063421</td>\n      <td>-0.121670</td>\n      <td>0.332014</td>\n      <td>0.316742</td>\n      <td>-0.178570</td>\n      <td>0.025356</td>\n      <td>0.013789</td>\n      <td>0.199696</td>\n      <td>-0.004558</td>\n      <td>0.011046</td>\n      <td>0.037667</td>\n      <td>0.094670</td>\n      <td>1.000000</td>\n      <td>-0.018305</td>\n    </tr>\n    <tr>\n      <th>popularity</th>\n      <td>0.660385</td>\n      <td>0.005092</td>\n      <td>-0.101694</td>\n      <td>0.117811</td>\n      <td>0.042833</td>\n      <td>-0.152954</td>\n      <td>-0.021929</td>\n      <td>-0.025308</td>\n      <td>0.145254</td>\n      <td>-0.019096</td>\n      <td>0.030528</td>\n      <td>-0.005206</td>\n      <td>0.029709</td>\n      <td>-0.018305</td>\n      <td>1.000000</td>\n    </tr>\n  </tbody>\n</table>\n</div>"
     },
     "execution_count": 7,
     "metadata": {},
     "output_type": "execute_result"
    }
   ],
   "source": [
    "# Choosing numeric data and describing correlation\n",
    "spotify_data_numeric = spotify_data.select_dtypes(include = ['float64', 'int64'])\n",
    "data_correlation = spotify_data_numeric.corr()\n",
    "data_correlation"
   ],
   "metadata": {
    "collapsed": false,
    "ExecuteTime": {
     "end_time": "2024-01-10T20:37:36.833321200Z",
     "start_time": "2024-01-10T20:37:36.751166900Z"
    }
   },
   "id": "3f7e7668cdadf4f0",
   "execution_count": 7
  },
  {
   "cell_type": "code",
   "outputs": [],
   "source": [
    "# Splitting data to train and test with 20% test data size\n",
    "X = spotify_data_numeric.drop(['popularity'], axis=1)\n",
    "y = spotify_data_numeric['popularity']\n",
    "\n",
    "X_train, X_test, y_train, y_test = train_test_split(X, y, test_size=0.2)"
   ],
   "metadata": {
    "collapsed": false,
    "ExecuteTime": {
     "end_time": "2024-01-10T20:37:36.833321200Z",
     "start_time": "2024-01-10T20:37:36.774407Z"
    }
   },
   "id": "8842465961ff47ef",
   "execution_count": 8
  },
  {
   "cell_type": "code",
   "outputs": [],
   "source": [
    "# Standardize the variables\n",
    "scaler = StandardScaler()\n",
    "scaler.fit(X_train)\n",
    "scaled_X_train = scaler.transform(X_train)\n",
    "scaled_X_test = scaler.transform(X_test)"
   ],
   "metadata": {
    "collapsed": false,
    "ExecuteTime": {
     "end_time": "2024-01-10T20:37:36.834327500Z",
     "start_time": "2024-01-10T20:37:36.783743400Z"
    }
   },
   "id": "e77bf3c6b35040f5",
   "execution_count": 9
  },
  {
   "cell_type": "code",
   "outputs": [
    {
     "name": "stdout",
     "output_type": "stream",
     "text": [
      "WARNING:tensorflow:From D:\\Study\\Sem_9\\DA\\DataAnalysis\\venv\\Lib\\site-packages\\keras\\src\\backend.py:873: The name tf.get_default_graph is deprecated. Please use tf.compat.v1.get_default_graph instead.\n",
      "WARNING:tensorflow:From D:\\Study\\Sem_9\\DA\\DataAnalysis\\venv\\Lib\\site-packages\\keras\\src\\optimizers\\__init__.py:309: The name tf.train.Optimizer is deprecated. Please use tf.compat.v1.train.Optimizer instead.\n"
     ]
    }
   ],
   "source": [
    "# Creating model\n",
    "model = Sequential()\n",
    "model.add(Dense(64, input_dim=scaled_X_train.shape[1], activation='relu'))  # First connected layer\n",
    "model.add(Dense(32, activation='relu'))  # Second connected layer\n",
    "model.add(Dense(1, activation='sigmoid'))  # Sigmoid output layer for binary classification\n",
    "\n",
    "# Compile model\n",
    "model.compile(loss='binary_crossentropy', optimizer='adam', metrics=['accuracy'])"
   ],
   "metadata": {
    "collapsed": false,
    "ExecuteTime": {
     "end_time": "2024-01-10T20:37:37.027881300Z",
     "start_time": "2024-01-10T20:37:36.794397600Z"
    }
   },
   "id": "508f02038e4740c2",
   "execution_count": 10
  },
  {
   "cell_type": "code",
   "outputs": [
    {
     "name": "stdout",
     "output_type": "stream",
     "text": [
      "Epoch 1/100\n",
      "WARNING:tensorflow:From D:\\Study\\Sem_9\\DA\\DataAnalysis\\venv\\Lib\\site-packages\\keras\\src\\utils\\tf_utils.py:492: The name tf.ragged.RaggedTensorValue is deprecated. Please use tf.compat.v1.ragged.RaggedTensorValue instead.\n",
      "WARNING:tensorflow:From D:\\Study\\Sem_9\\DA\\DataAnalysis\\venv\\Lib\\site-packages\\keras\\src\\engine\\base_layer_utils.py:384: The name tf.executing_eagerly_outside_functions is deprecated. Please use tf.compat.v1.executing_eagerly_outside_functions instead.\n",
      "471/471 [==============================] - 1s 1ms/step - loss: 0.2144 - accuracy: 0.9105 - val_loss: 0.0767 - val_accuracy: 0.9753\n",
      "Epoch 2/100\n",
      "471/471 [==============================] - 1s 1ms/step - loss: 0.0588 - accuracy: 0.9796 - val_loss: 0.0453 - val_accuracy: 0.9865\n",
      "Epoch 3/100\n",
      "471/471 [==============================] - 1s 1ms/step - loss: 0.0400 - accuracy: 0.9863 - val_loss: 0.0346 - val_accuracy: 0.9907\n",
      "Epoch 4/100\n",
      "471/471 [==============================] - 1s 1ms/step - loss: 0.0293 - accuracy: 0.9898 - val_loss: 0.0330 - val_accuracy: 0.9886\n",
      "Epoch 5/100\n",
      "471/471 [==============================] - 1s 1ms/step - loss: 0.0249 - accuracy: 0.9916 - val_loss: 0.0253 - val_accuracy: 0.9926\n",
      "Epoch 6/100\n",
      "471/471 [==============================] - 1s 1ms/step - loss: 0.0206 - accuracy: 0.9928 - val_loss: 0.0239 - val_accuracy: 0.9904\n",
      "Epoch 7/100\n",
      "471/471 [==============================] - 1s 1ms/step - loss: 0.0185 - accuracy: 0.9945 - val_loss: 0.0200 - val_accuracy: 0.9936\n",
      "Epoch 8/100\n",
      "471/471 [==============================] - 1s 1ms/step - loss: 0.0151 - accuracy: 0.9948 - val_loss: 0.0241 - val_accuracy: 0.9934\n",
      "Epoch 9/100\n",
      "471/471 [==============================] - 1s 1ms/step - loss: 0.0149 - accuracy: 0.9950 - val_loss: 0.0244 - val_accuracy: 0.9920\n",
      "Epoch 10/100\n",
      "471/471 [==============================] - 1s 1ms/step - loss: 0.0117 - accuracy: 0.9965 - val_loss: 0.0174 - val_accuracy: 0.9934\n",
      "Epoch 11/100\n",
      "471/471 [==============================] - 1s 1ms/step - loss: 0.0120 - accuracy: 0.9956 - val_loss: 0.0174 - val_accuracy: 0.9931\n",
      "Epoch 12/100\n",
      "440/471 [===========================>..] - ETA: 0s - loss: 0.0114 - accuracy: 0.9961Restoring model weights from the end of the best epoch: 7.\n",
      "471/471 [==============================] - 1s 1ms/step - loss: 0.0121 - accuracy: 0.9957 - val_loss: 0.0300 - val_accuracy: 0.9902\n",
      "Epoch 12: early stopping\n"
     ]
    },
    {
     "data": {
      "text/plain": "<keras.src.callbacks.History at 0x2685ae63b50>"
     },
     "execution_count": 11,
     "metadata": {},
     "output_type": "execute_result"
    }
   ],
   "source": [
    "# Train model\n",
    "early_stopping = EarlyStopping(monitor='val_accuracy', patience=5, verbose=1, restore_best_weights=True)\n",
    "model.fit(scaled_X_train, y_train, epochs=100, batch_size=32, validation_data=(scaled_X_test, y_test), callbacks=[early_stopping])"
   ],
   "metadata": {
    "collapsed": false,
    "ExecuteTime": {
     "end_time": "2024-01-10T20:37:44.684549900Z",
     "start_time": "2024-01-10T20:37:37.029876100Z"
    }
   },
   "id": "c455b39c7c3b7057",
   "execution_count": 11
  },
  {
   "cell_type": "code",
   "outputs": [
    {
     "name": "stdout",
     "output_type": "stream",
     "text": [
      "118/118 [==============================] - 0s 853us/step - loss: 0.0200 - accuracy: 0.9936\n",
      "Test accuracy: 0.9936288595199585\n"
     ]
    }
   ],
   "source": [
    "# Evaluate model\n",
    "loss, accuracy = model.evaluate(scaled_X_test, y_test)\n",
    "print(f'Test accuracy: {accuracy}')"
   ],
   "metadata": {
    "collapsed": false,
    "ExecuteTime": {
     "end_time": "2024-01-10T20:37:44.847862800Z",
     "start_time": "2024-01-10T20:37:44.685547100Z"
    }
   },
   "id": "b47be15927664755",
   "execution_count": 12
  },
  {
   "cell_type": "code",
   "outputs": [],
   "source": [],
   "metadata": {
    "collapsed": false,
    "ExecuteTime": {
     "end_time": "2024-01-10T20:37:44.847862800Z",
     "start_time": "2024-01-10T20:37:44.846864100Z"
    }
   },
   "id": "ce96f13d586f1d37",
   "execution_count": 12
  }
 ],
 "metadata": {
  "kernelspec": {
   "display_name": "Python 3",
   "language": "python",
   "name": "python3"
  },
  "language_info": {
   "codemirror_mode": {
    "name": "ipython",
    "version": 2
   },
   "file_extension": ".py",
   "mimetype": "text/x-python",
   "name": "python",
   "nbconvert_exporter": "python",
   "pygments_lexer": "ipython2",
   "version": "2.7.6"
  }
 },
 "nbformat": 4,
 "nbformat_minor": 5
}
